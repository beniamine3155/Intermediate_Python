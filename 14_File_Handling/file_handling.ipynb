{
 "cells": [
  {
   "cell_type": "markdown",
   "id": "9462cd83",
   "metadata": {},
   "source": [
    "### File Handling"
   ]
  },
  {
   "cell_type": "markdown",
   "id": "66bb919f",
   "metadata": {},
   "source": [
    "File handling allows us to read, write, and manipulate files in Python. Files are of two main types:\n",
    "\n",
    "- Text files (.txt, .csv, .json, etc.)\n",
    "\n",
    "- Binary files (.png, .jpg, .exe, .mp4, etc.)"
   ]
  },
  {
   "cell_type": "code",
   "execution_count": 1,
   "id": "7467b4d1",
   "metadata": {},
   "outputs": [],
   "source": [
    "## We use the built-in open() function:\n",
    "\n",
    "# open(file, mode)"
   ]
  },
  {
   "cell_type": "markdown",
   "id": "c8a57f37",
   "metadata": {},
   "source": [
    "| Mode   | Meaning                                         |\n",
    "| ------ | ----------------------------------------------- |\n",
    "| `'r'`  | Read (default). File must exist.                |\n",
    "| `'w'`  | Write. Creates new file or overwrites existing. |\n",
    "| `'a'`  | Append. Adds data to end of file.               |\n",
    "| `'rb'` | Read binary (images, videos, etc.).             |\n",
    "| `'wb'` | Write binary.                                   |\n",
    "| `'r+'` | Read and write.                                 |\n",
    "| `'w+'` | Write and read (overwrites file).               |\n"
   ]
  },
  {
   "cell_type": "markdown",
   "id": "f2ccd875",
   "metadata": {},
   "source": [
    "#### Reading Text Files"
   ]
  },
  {
   "cell_type": "code",
   "execution_count": 6,
   "id": "566fee1f",
   "metadata": {},
   "outputs": [],
   "source": [
    "# Create a sample file\n",
    "with open(\"sample.txt\", \"w\") as f:\n",
    "    f.write(\"Hell, Beniamine Nahid!\\nWelcome to file handling\")"
   ]
  },
  {
   "cell_type": "code",
   "execution_count": 7,
   "id": "b463c871",
   "metadata": {},
   "outputs": [
    {
     "name": "stdout",
     "output_type": "stream",
     "text": [
      "Hell, Beniamine Nahid!\n",
      "Welcome to file handling\n"
     ]
    }
   ],
   "source": [
    "# Read file\n",
    "with open(\"sample.txt\", \"r\") as f:\n",
    "    content = f.read()\n",
    "    print(content)"
   ]
  },
  {
   "cell_type": "markdown",
   "id": "6e43563c",
   "metadata": {},
   "source": [
    "#### Writing to Text Files"
   ]
  },
  {
   "cell_type": "code",
   "execution_count": 8,
   "id": "77a982b7",
   "metadata": {},
   "outputs": [],
   "source": [
    "# Appending a new content in sample.txt file\n",
    "\n",
    "with open(\"sample.txt\", \"a\") as f:\n",
    "    f.write(\"\\nFile handling now easy\")"
   ]
  },
  {
   "cell_type": "code",
   "execution_count": 9,
   "id": "9df6176e",
   "metadata": {},
   "outputs": [
    {
     "name": "stdout",
     "output_type": "stream",
     "text": [
      "Hell, Beniamine Nahid!\n",
      "Welcome to file handling\n",
      "File handling now easy\n"
     ]
    }
   ],
   "source": [
    "# Read file\n",
    "with open(\"sample.txt\", \"r\") as f:\n",
    "    content = f.read()\n",
    "    print(content)"
   ]
  },
  {
   "cell_type": "markdown",
   "id": "d022c98c",
   "metadata": {},
   "source": [
    "#### Reading Files Line by Line"
   ]
  },
  {
   "cell_type": "code",
   "execution_count": 12,
   "id": "2a9cdc5f",
   "metadata": {},
   "outputs": [
    {
     "name": "stdout",
     "output_type": "stream",
     "text": [
      "Hell, Beniamine Nahid!\n",
      "Welcome to file handling\n",
      "File handling now easy\n"
     ]
    }
   ],
   "source": [
    "with open(\"sample.txt\", \"r\") as f:\n",
    "    for line in f:\n",
    "        print(line.strip())   # strip() removes newline\n"
   ]
  },
  {
   "cell_type": "markdown",
   "id": "afd84f8e",
   "metadata": {},
   "source": [
    "#### Binary Files (Images, Videos, Executables)"
   ]
  },
  {
   "cell_type": "code",
   "execution_count": 14,
   "id": "5352f9cd",
   "metadata": {},
   "outputs": [],
   "source": [
    "# Copy an image\n",
    "with open(\"unnamed.png\", \"rb\") as f:\n",
    "    with open(\"unnamed.png\", \"wb\") as wf:\n",
    "        wf.write(f.read())\n"
   ]
  },
  {
   "cell_type": "markdown",
   "id": "0bf93abc",
   "metadata": {},
   "source": [
    "#### Writing Dictionaries / Complex Data"
   ]
  },
  {
   "cell_type": "code",
   "execution_count": 15,
   "id": "9fa91b89",
   "metadata": {},
   "outputs": [],
   "source": [
    "d = {'name':'Bappy', 'age':23, 'gender':'male'}\n",
    "\n",
    "with open(\"sample_dict.txt\", \"w\") as f:\n",
    "    f.write(str(d))   # stores as a string\n"
   ]
  },
  {
   "cell_type": "code",
   "execution_count": 16,
   "id": "e41fabf0",
   "metadata": {},
   "outputs": [
    {
     "name": "stdout",
     "output_type": "stream",
     "text": [
      "{'name': 'Bappy', 'age': 23, 'gender': 'male'}\n",
      "<class 'str'>\n"
     ]
    }
   ],
   "source": [
    "with open(\"sample_dict.txt\", \"r\") as f:\n",
    "    data = f.read()\n",
    "    print(data)        # string\n",
    "    print(type(data))  # <class 'str'>\n"
   ]
  },
  {
   "cell_type": "markdown",
   "id": "ead8334b",
   "metadata": {},
   "source": [
    "#### Using json (Best practice for structured data)"
   ]
  },
  {
   "cell_type": "code",
   "execution_count": 17,
   "id": "8fbcd04c",
   "metadata": {},
   "outputs": [
    {
     "name": "stdout",
     "output_type": "stream",
     "text": [
      "{'name': 'Bappy', 'age': 23, 'gender': 'male'}\n",
      "<class 'dict'>\n"
     ]
    }
   ],
   "source": [
    "import json\n",
    "\n",
    "d = {'name':'Bappy', 'age':23, 'gender':'male'}\n",
    "\n",
    "# Write as JSON\n",
    "with open(\"sample.json\", \"w\") as f:\n",
    "    json.dump(d, f)\n",
    "\n",
    "# Read JSON back into dict\n",
    "with open(\"sample.json\", \"r\") as f:\n",
    "    data = json.load(f)\n",
    "    print(data)\n",
    "    print(type(data))\n"
   ]
  },
  {
   "cell_type": "markdown",
   "id": "b203689b",
   "metadata": {},
   "source": [
    "#### Using pickle (for Python objects)"
   ]
  },
  {
   "cell_type": "code",
   "execution_count": 18,
   "id": "4745a4a6",
   "metadata": {},
   "outputs": [
    {
     "name": "stdout",
     "output_type": "stream",
     "text": [
      "{'name': 'Bappy', 'age': 23, 'gender': 'male'}\n",
      "<class 'dict'>\n"
     ]
    }
   ],
   "source": [
    "import pickle\n",
    "\n",
    "d = {'name':'Bappy', 'age':23, 'gender':'male'}\n",
    "\n",
    "# Save object in binary\n",
    "with open(\"sample.pkl\", \"wb\") as f:\n",
    "    pickle.dump(d, f)\n",
    "\n",
    "# Load back\n",
    "with open(\"sample.pkl\", \"rb\") as f:\n",
    "    data = pickle.load(f)\n",
    "    print(data)\n",
    "    print(type(data))\n"
   ]
  },
  {
   "cell_type": "markdown",
   "id": "86b17008",
   "metadata": {},
   "source": [
    "#### Safe File Handling (Context Manager)\n",
    "\n",
    "- Always use with open(...) so files close automatically."
   ]
  },
  {
   "cell_type": "code",
   "execution_count": 19,
   "id": "b9a8ed80",
   "metadata": {},
   "outputs": [
    {
     "name": "stdout",
     "output_type": "stream",
     "text": [
      "Hell, Beniamine Nahid!\n",
      "Welcome to file handling\n",
      "File handling now easy\n"
     ]
    }
   ],
   "source": [
    "with open(\"sample.txt\", \"r\") as f:\n",
    "    print(f.read())\n"
   ]
  },
  {
   "cell_type": "code",
   "execution_count": 20,
   "id": "790b8dbe",
   "metadata": {},
   "outputs": [
    {
     "name": "stdout",
     "output_type": "stream",
     "text": [
      "File not found!\n"
     ]
    }
   ],
   "source": [
    "# Exception Handling in File Operations\n",
    "try:\n",
    "    with open(\"missing.txt\", \"r\") as f:\n",
    "        print(f.read())\n",
    "except FileNotFoundError:\n",
    "    print(\"File not found!\")"
   ]
  },
  {
   "cell_type": "code",
   "execution_count": null,
   "id": "816a1805",
   "metadata": {},
   "outputs": [],
   "source": []
  }
 ],
 "metadata": {
  "kernelspec": {
   "display_name": "base",
   "language": "python",
   "name": "python3"
  },
  "language_info": {
   "codemirror_mode": {
    "name": "ipython",
    "version": 3
   },
   "file_extension": ".py",
   "mimetype": "text/x-python",
   "name": "python",
   "nbconvert_exporter": "python",
   "pygments_lexer": "ipython3",
   "version": "3.11.7"
  }
 },
 "nbformat": 4,
 "nbformat_minor": 5
}
