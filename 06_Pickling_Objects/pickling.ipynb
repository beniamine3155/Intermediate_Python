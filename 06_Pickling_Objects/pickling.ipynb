{
 "cells": [
  {
   "cell_type": "markdown",
   "id": "b6290b29",
   "metadata": {},
   "source": [
    "### Pickling Objects in Python for Beginners"
   ]
  },
  {
   "cell_type": "markdown",
   "id": "894384cd",
   "metadata": {},
   "source": [
    "### What is Pickling?\n",
    "Pickling is a way to serialize (convert) a Python object into a binary format so that it can be saved to a file and later reloaded. This is especially useful when you want to save complex objects like lists, dictionaries, or instances of classes to a file.\n",
    "\n",
    "### Why Use Pickling?\n",
    "Efficiency: Pickling is faster than converting objects to text formats like JSON for saving.\n",
    "\n",
    "Flexibility: It can handle many Python-specific types, including objects of custom classes."
   ]
  },
  {
   "cell_type": "markdown",
   "id": "b6d68464",
   "metadata": {},
   "source": [
    "### Basics of Pickling in Python\n",
    "The pickle module is built into Python, and it provides methods to serialize and deserialize objects.\n",
    "\n",
    "#### Steps for Pickling:\n",
    "1. Serialize an object: Save it to a file.\n",
    "2. Deserialize an object: Load it back into memory."
   ]
  },
  {
   "cell_type": "markdown",
   "id": "90e8c6e4",
   "metadata": {},
   "source": [
    "### Example: Pickling a Python Object\n"
   ]
  },
  {
   "cell_type": "code",
   "execution_count": 1,
   "id": "e7bbfe7a",
   "metadata": {},
   "outputs": [],
   "source": [
    "class Person:\n",
    "    def __init__(self, name, age):\n",
    "        self.name = name\n",
    "        self.age = age\n",
    "\n",
    "    def __repr__(self):\n",
    "        return f\"Person(name={self.name}, age={self.age})\""
   ]
  },
  {
   "cell_type": "code",
   "execution_count": 2,
   "id": "41472ab0",
   "metadata": {},
   "outputs": [
    {
     "name": "stdout",
     "output_type": "stream",
     "text": [
      "Object pickled successfully.\n"
     ]
    }
   ],
   "source": [
    "import pickle\n",
    "\n",
    "# Create an instance of the class\n",
    "person = Person(\"Alice\", 30)\n",
    "\n",
    "# Open a file in binary write mode\n",
    "with open(\"person.pkl\", \"wb\") as file:\n",
    "    pickle.dump(person, file)  # Serialize and write to file\n",
    "\n",
    "print(\"Object pickled successfully.\")"
   ]
  },
  {
   "cell_type": "code",
   "execution_count": 3,
   "id": "177ca414",
   "metadata": {},
   "outputs": [
    {
     "name": "stdout",
     "output_type": "stream",
     "text": [
      "Loaded object: Person(name=Alice, age=30)\n"
     ]
    }
   ],
   "source": [
    "# Open the file in binary read mode\n",
    "with open(\"person.pkl\", \"rb\") as file:\n",
    "    loaded_person = pickle.load(file)  # Deserialize and load\n",
    "\n",
    "print(\"Loaded object:\", loaded_person)"
   ]
  },
  {
   "cell_type": "markdown",
   "id": "3980eda2",
   "metadata": {},
   "source": [
    "### JSON Serialization: An Alternative\n",
    "The json module can serialize Python objects to text. However, it only works with basic data types: lists, dictionaries, strings, numbers, and None.\n",
    "\n",
    "1. Save a Dictionary as JSON\n",
    "Here’s how to save a dictionary to a JSON file."
   ]
  },
  {
   "cell_type": "code",
   "execution_count": 4,
   "id": "99ffe95a",
   "metadata": {},
   "outputs": [
    {
     "name": "stdout",
     "output_type": "stream",
     "text": [
      "Data saved as JSON.\n"
     ]
    }
   ],
   "source": [
    "import json\n",
    "\n",
    "# Example dictionary\n",
    "data = {\"name\": \"Alice\", \"age\": 30, \"hobbies\": [\"reading\", \"cycling\"]}\n",
    "\n",
    "# Save to a JSON file\n",
    "with open(\"data.json\", \"w\") as file:\n",
    "    json.dump(data, file)\n",
    "\n",
    "print(\"Data saved as JSON.\")"
   ]
  },
  {
   "cell_type": "code",
   "execution_count": 5,
   "id": "a0331f3b",
   "metadata": {},
   "outputs": [
    {
     "name": "stdout",
     "output_type": "stream",
     "text": [
      "Loaded JSON data: {'name': 'Alice', 'age': 30, 'hobbies': ['reading', 'cycling']}\n"
     ]
    }
   ],
   "source": [
    "# Read from the JSON file\n",
    "with open(\"data.json\", \"r\") as file:\n",
    "    loaded_data = json.load(file)\n",
    "\n",
    "print(\"Loaded JSON data:\", loaded_data)"
   ]
  },
  {
   "cell_type": "code",
   "execution_count": 6,
   "id": "25f1b1bb",
   "metadata": {},
   "outputs": [
    {
     "name": "stdout",
     "output_type": "stream",
     "text": [
      "JSON String: {\"name\": \"Alice\", \"age\": 30, \"hobbies\": [\"reading\", \"cycling\"]}\n",
      "Python Object: {'name': 'Alice', 'age': 30, 'hobbies': ['reading', 'cycling']}\n"
     ]
    }
   ],
   "source": [
    "# Convert Python object to JSON string\n",
    "json_string = json.dumps(data)\n",
    "print(\"JSON String:\", json_string)\n",
    "\n",
    "# Convert JSON string back to Python object\n",
    "python_obj = json.loads(json_string)\n",
    "print(\"Python Object:\", python_obj)"
   ]
  },
  {
   "cell_type": "code",
   "execution_count": null,
   "id": "2ac6a049",
   "metadata": {},
   "outputs": [],
   "source": []
  }
 ],
 "metadata": {
  "kernelspec": {
   "display_name": "base",
   "language": "python",
   "name": "python3"
  },
  "language_info": {
   "codemirror_mode": {
    "name": "ipython",
    "version": 3
   },
   "file_extension": ".py",
   "mimetype": "text/x-python",
   "name": "python",
   "nbconvert_exporter": "python",
   "pygments_lexer": "ipython3",
   "version": "3.11.7"
  }
 },
 "nbformat": 4,
 "nbformat_minor": 5
}
