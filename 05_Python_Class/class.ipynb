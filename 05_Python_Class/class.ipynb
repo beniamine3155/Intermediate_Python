{
 "cells": [
  {
   "cell_type": "markdown",
   "id": "8a7f142d",
   "metadata": {},
   "source": [
    "### What is a Class?\n",
    "A class is a blueprint for creating objects. Objects are instances of classes, and each object can have attributes (variables) and methods (functions defined in the class).\n",
    "\n",
    "Think of a class as a recipe for making a cake. The class defines the ingredients and steps, but you can make multiple cakes (objects) based on that recipe, each with its own specific details (like flavor, size, etc.)."
   ]
  },
  {
   "cell_type": "markdown",
   "id": "5c49c2b4",
   "metadata": {},
   "source": [
    "#### Creating a Basic Class in Python\n",
    "Let's say we're creating a class for a simple concept: a Dog. Each Dog object we create could have attributes like name and age.\n",
    "\n",
    "Here’s what a basic class might look like in Python:"
   ]
  },
  {
   "cell_type": "code",
   "execution_count": 1,
   "id": "59eca97f",
   "metadata": {},
   "outputs": [],
   "source": [
    "class Dog:\n",
    "    pass"
   ]
  },
  {
   "cell_type": "markdown",
   "id": "1ac16442",
   "metadata": {},
   "source": [
    "This code defines an empty class called Dog. The pass statement tells Python to do nothing – it's a placeholder, so we don't get an error."
   ]
  },
  {
   "cell_type": "markdown",
   "id": "78c38991",
   "metadata": {},
   "source": [
    "### Adding the __init__ Method\n",
    "The __init__ method is a special method in Python that is called automatically every time a new object is created. It’s often referred to as the \"initializer\" or \"constructor\" of the class. This method is where we set up the initial values of our object's attributes.\n",
    "\n",
    "Let's update our Dog class to include some attributes: name and age."
   ]
  },
  {
   "cell_type": "code",
   "execution_count": null,
   "id": "ee46d33b",
   "metadata": {},
   "outputs": [],
   "source": [
    "class Dog:\n",
    "    def __init__(self, name, age):\n",
    "        self.name = name\n",
    "        self.age = age"
   ]
  },
  {
   "cell_type": "markdown",
   "id": "383ce2ba",
   "metadata": {},
   "source": [
    "#### Here’s what’s happening:\n",
    "\n",
    "def __init__(self, name, age): defines the __init__ method.\n",
    "\n",
    "self represents the instance of the class (the specific Dog object we’re creating).\n",
    "\n",
    "self.name = name sets the name attribute for the object, and self.age = age sets the age attribute."
   ]
  },
  {
   "cell_type": "markdown",
   "id": "19fbb7d6",
   "metadata": {},
   "source": [
    "#### Using self\n",
    "self is a reference to the current instance of the class. It lets you access the instance’s attributes and methods from within the class.\n",
    "\n",
    "When you call a method on an object, Python automatically passes the object as the first argument, which we call self. You don’t have to explicitly pass it; Python does it for you."
   ]
  },
  {
   "cell_type": "markdown",
   "id": "3b316698",
   "metadata": {},
   "source": [
    "#### Adding a Method to Our Class\n",
    "Now, let’s add a simple method to make our dog \"speak.\""
   ]
  },
  {
   "cell_type": "code",
   "execution_count": 2,
   "id": "20fd70eb",
   "metadata": {},
   "outputs": [],
   "source": [
    "class Dog:\n",
    "    def __init__(self, name, age):\n",
    "        self.name = name\n",
    "        self.age = age\n",
    "\n",
    "    def speak(self):\n",
    "        print(f\"{self.name} says woof!\")"
   ]
  },
  {
   "cell_type": "markdown",
   "id": "589a33d5",
   "metadata": {},
   "source": [
    "1. speak is a method, just like a function, but it’s defined within a class.\n",
    "\n",
    "2. self is used as the first parameter, allowing the method to access the object's attributes."
   ]
  },
  {
   "cell_type": "markdown",
   "id": "e6ac9d25",
   "metadata": {},
   "source": [
    "#### Creating an Object (Instance) of the Class\n",
    "To create an object, we call the class like a function, passing in any required arguments. Let’s make a dog named “Buddy” who is 3 years old."
   ]
  },
  {
   "cell_type": "code",
   "execution_count": 3,
   "id": "0ef61fe5",
   "metadata": {},
   "outputs": [],
   "source": [
    "my_dog = Dog(\"Buddy\", 3)"
   ]
  },
  {
   "cell_type": "markdown",
   "id": "800b2ddd",
   "metadata": {},
   "source": [
    "#### Here’s what happens:\n",
    "\n",
    "1. Dog(\"Buddy\", 3) calls the __init__ method.\n",
    "\n",
    "2. Inside __init__, self.name is set to \"Buddy\", and self.age is set to 3.\n",
    "\n",
    "Now my_dog is an instance of Dog with its own unique name and age."
   ]
  },
  {
   "cell_type": "markdown",
   "id": "6565a3f9",
   "metadata": {},
   "source": [
    "#### Using the Object’s Methods and Attributes\n",
    "Once we have an object, we can access its attributes and call its methods."
   ]
  },
  {
   "cell_type": "code",
   "execution_count": 4,
   "id": "1c5ccaeb",
   "metadata": {},
   "outputs": [
    {
     "name": "stdout",
     "output_type": "stream",
     "text": [
      "Buddy\n",
      "3\n",
      "Buddy says woof!\n"
     ]
    }
   ],
   "source": [
    "print(my_dog.name)  \n",
    "print(my_dog.age)  \n",
    "my_dog.speak() "
   ]
  },
  {
   "cell_type": "markdown",
   "id": "12034736",
   "metadata": {},
   "source": [
    "#### Example of Another Class\n",
    "Let’s create a class called Book with attributes for title, author, and pages. We’ll add a method to print out a summary of the book."
   ]
  },
  {
   "cell_type": "code",
   "execution_count": 5,
   "id": "48a0ce75",
   "metadata": {},
   "outputs": [],
   "source": [
    "class Book:\n",
    "    def __init__(self, title, author, pages):\n",
    "        self.title = title\n",
    "        self.author = author\n",
    "        self.pages = pages\n",
    "\n",
    "    def summary(self):\n",
    "        print(f\"'{self.title}' by {self.author}, {self.pages} pages long.\")"
   ]
  },
  {
   "cell_type": "code",
   "execution_count": 6,
   "id": "b64e23b7",
   "metadata": {},
   "outputs": [
    {
     "name": "stdout",
     "output_type": "stream",
     "text": [
      "To Kill a Mockingbird\n",
      "Harper Lee\n",
      "'To Kill a Mockingbird' by Harper Lee, 281 pages long.\n"
     ]
    }
   ],
   "source": [
    "# Now let’s create an instance of the Book class:\n",
    "\n",
    "my_book = Book(\"To Kill a Mockingbird\", \"Harper Lee\", 281)\n",
    "print(my_book.title)        \n",
    "print(my_book.author)       \n",
    "my_book.summary()"
   ]
  },
  {
   "cell_type": "markdown",
   "id": "8fd4db95",
   "metadata": {},
   "source": [
    "#### Full Example"
   ]
  },
  {
   "cell_type": "code",
   "execution_count": 7,
   "id": "2bb5d6da",
   "metadata": {},
   "outputs": [
    {
     "name": "stdout",
     "output_type": "stream",
     "text": [
      "2021 Toyota Camry\n",
      "The engine of the Camry is now running.\n"
     ]
    }
   ],
   "source": [
    "class Car:\n",
    "    def __init__(self, make, model, year):\n",
    "        self.make = make\n",
    "        self.model = model\n",
    "        self.year = year\n",
    "\n",
    "    def description(self):\n",
    "        return f\"{self.year} {self.make} {self.model}\"\n",
    "\n",
    "    def start_engine(self):\n",
    "        print(f\"The engine of the {self.model} is now running.\")\n",
    "\n",
    "# Creating a Car object\n",
    "my_car = Car(\"Toyota\", \"Camry\", 2021)\n",
    "\n",
    "# Accessing attributes and calling methods\n",
    "print(my_car.description())  # Output: 2021 Toyota Camry\n",
    "my_car.start_engine()        # Output: The engine of the Camry is now running.\n"
   ]
  },
  {
   "cell_type": "code",
   "execution_count": null,
   "id": "8e07d36c",
   "metadata": {},
   "outputs": [],
   "source": []
  }
 ],
 "metadata": {
  "kernelspec": {
   "display_name": "base",
   "language": "python",
   "name": "python3"
  },
  "language_info": {
   "codemirror_mode": {
    "name": "ipython",
    "version": 3
   },
   "file_extension": ".py",
   "mimetype": "text/x-python",
   "name": "python",
   "nbconvert_exporter": "python",
   "pygments_lexer": "ipython3",
   "version": "3.11.7"
  }
 },
 "nbformat": 4,
 "nbformat_minor": 5
}
