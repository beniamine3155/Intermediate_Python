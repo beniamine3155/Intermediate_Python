{
 "cells": [
  {
   "cell_type": "markdown",
   "id": "fbd329dc",
   "metadata": {},
   "source": [
    "### What is enumerate()?\n",
    "\n",
    "The enumerate() function adds a counter (index number) to an iterable (like a list, tuple, or string) and returns it as an enumerate object."
   ]
  },
  {
   "cell_type": "code",
   "execution_count": null,
   "id": "9a4d168c",
   "metadata": {},
   "outputs": [],
   "source": [
    "## Syntax\n",
    "enumerate(iterable, start=0)"
   ]
  },
  {
   "cell_type": "code",
   "execution_count": 2,
   "id": "aad45b08",
   "metadata": {},
   "outputs": [
    {
     "name": "stdout",
     "output_type": "stream",
     "text": [
      "0 Apple\n",
      "1 Banana\n",
      "2 Cherry\n"
     ]
    }
   ],
   "source": [
    "## Example 1 — Default start (0)\n",
    "fruits = [\"Apple\", \"Banana\", \"Cherry\"]\n",
    "\n",
    "for index, fruit in enumerate(fruits):\n",
    "    print(index, fruit)"
   ]
  },
  {
   "cell_type": "code",
   "execution_count": 3,
   "id": "5c031e58",
   "metadata": {},
   "outputs": [
    {
     "name": "stdout",
     "output_type": "stream",
     "text": [
      "100 Apple\n",
      "101 Banana\n",
      "102 Cherry\n"
     ]
    }
   ],
   "source": [
    "## Example 2 — Custom start value\n",
    "fruits = [\"Apple\", \"Banana\", \"Cherry\"]\n",
    "\n",
    "for index, fruit in enumerate(fruits, start=100):\n",
    "    print(index, fruit)"
   ]
  },
  {
   "cell_type": "code",
   "execution_count": 4,
   "id": "0e34cc61",
   "metadata": {},
   "outputs": [
    {
     "name": "stdout",
     "output_type": "stream",
     "text": [
      "Index 0 → Dhaka\n",
      "Index 2 → Sylhet\n"
     ]
    }
   ],
   "source": [
    "## Example 3 — Accessing specific index\n",
    "cities = [\"Dhaka\", \"Chittagong\", \"Sylhet\", \"Rajshahi\"]\n",
    "\n",
    "for index, city in enumerate(cities):\n",
    "    if index % 2 == 0:  # Even index\n",
    "        print(f\"Index {index} → {city}\")\n"
   ]
  },
  {
   "cell_type": "code",
   "execution_count": 5,
   "id": "d5548c3f",
   "metadata": {},
   "outputs": [
    {
     "name": "stdout",
     "output_type": "stream",
     "text": [
      "[(1, 'Cat'), (2, 'Dog'), (3, 'Elephant')]\n"
     ]
    }
   ],
   "source": [
    "## Example 4 — Converting enumerate to a list\n",
    "animals = [\"Cat\", \"Dog\", \"Elephant\"]\n",
    "result = list(enumerate(animals, start=1))\n",
    "print(result)"
   ]
  },
  {
   "cell_type": "code",
   "execution_count": 6,
   "id": "f5b1072a",
   "metadata": {},
   "outputs": [
    {
     "name": "stdout",
     "output_type": "stream",
     "text": [
      "Position 1 → P\n",
      "Position 2 → y\n",
      "Position 3 → t\n",
      "Position 4 → h\n",
      "Position 5 → o\n",
      "Position 6 → n\n"
     ]
    }
   ],
   "source": [
    "## Example 5 — With strings\n",
    "for index, char in enumerate(\"Python\", start=1):\n",
    "    print(f\"Position {index} → {char}\")"
   ]
  },
  {
   "cell_type": "code",
   "execution_count": null,
   "id": "129879db",
   "metadata": {},
   "outputs": [],
   "source": []
  }
 ],
 "metadata": {
  "kernelspec": {
   "display_name": "base",
   "language": "python",
   "name": "python3"
  },
  "language_info": {
   "codemirror_mode": {
    "name": "ipython",
    "version": 3
   },
   "file_extension": ".py",
   "mimetype": "text/x-python",
   "name": "python",
   "nbconvert_exporter": "python",
   "pygments_lexer": "ipython3",
   "version": "3.11.7"
  }
 },
 "nbformat": 4,
 "nbformat_minor": 5
}
