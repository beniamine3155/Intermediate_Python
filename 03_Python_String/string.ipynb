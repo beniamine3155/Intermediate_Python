{
 "cells": [
  {
   "cell_type": "markdown",
   "id": "b6dcdfe9",
   "metadata": {},
   "source": [
    "### 1. Basic String Manipulation in Python"
   ]
  },
  {
   "cell_type": "code",
   "execution_count": null,
   "id": "f4ab9d7d",
   "metadata": {},
   "outputs": [
    {
     "name": "stdout",
     "output_type": "stream",
     "text": [
      "15\n"
     ]
    }
   ],
   "source": [
    "# len() - Returns the length of the string.\n",
    "# The length counts every character, including spaces and punctuation.\n",
    "\n",
    "text = \"Beniamine Nahid\"\n",
    "print(len(text))"
   ]
  },
  {
   "cell_type": "code",
   "execution_count": 2,
   "id": "7001c46e",
   "metadata": {},
   "outputs": [
    {
     "name": "stdout",
     "output_type": "stream",
     "text": [
      "Hello, Python!\n"
     ]
    }
   ],
   "source": [
    "# replace() - Replaces a part of the string with another substring.\n",
    "\n",
    "greeting = \"Hello, world!\"\n",
    "new_greeting = greeting.replace(\"world\", \"Python\")\n",
    "print(new_greeting)"
   ]
  },
  {
   "cell_type": "code",
   "execution_count": 3,
   "id": "f6f794e5",
   "metadata": {},
   "outputs": [
    {
     "name": "stdout",
     "output_type": "stream",
     "text": [
      "Hello, world!\n"
     ]
    }
   ],
   "source": [
    "# strip() - Removes any whitespace (spaces, newlines) from the beginning and end of the string.\n",
    "messy_text = \"   Hello, world!   \"\n",
    "clean_text = messy_text.strip()\n",
    "print(clean_text)"
   ]
  },
  {
   "cell_type": "code",
   "execution_count": 4,
   "id": "a4aef9ab",
   "metadata": {},
   "outputs": [
    {
     "name": "stdout",
     "output_type": "stream",
     "text": [
      "['Hello', 'world', 'Python', 'is', 'great']\n"
     ]
    }
   ],
   "source": [
    "# split() - Divides a string into a list of substrings based on a specified separator (default is whitespace).\n",
    "\n",
    "sentence = \"Hello world Python is great\"\n",
    "words = sentence.split()\n",
    "print(words) "
   ]
  },
  {
   "cell_type": "code",
   "execution_count": 5,
   "id": "75fb965b",
   "metadata": {},
   "outputs": [
    {
     "name": "stdout",
     "output_type": "stream",
     "text": [
      "Hello world Python is great\n"
     ]
    }
   ],
   "source": [
    "# join() - Combines a list of strings into a single string, with each element separated by the string it was called on.\n",
    "\n",
    "words = ['Hello', 'world', 'Python', 'is', 'great']\n",
    "sentence = \" \".join(words)\n",
    "print(sentence)"
   ]
  },
  {
   "cell_type": "code",
   "execution_count": 6,
   "id": "3fb64c35",
   "metadata": {},
   "outputs": [
    {
     "name": "stdout",
     "output_type": "stream",
     "text": [
      "Hello\n",
      "world!\n"
     ]
    }
   ],
   "source": [
    "# Slicing - Extracts parts of a string by specifying a range of indices.\n",
    "text = \"Hello, world!\"\n",
    "print(text[0:5])   \n",
    "print(text[-6:])"
   ]
  },
  {
   "cell_type": "markdown",
   "id": "aeeaadf8",
   "metadata": {},
   "source": [
    "### 2. Multi-line Strings"
   ]
  },
  {
   "cell_type": "code",
   "execution_count": 8,
   "id": "cf9ecb8a",
   "metadata": {},
   "outputs": [
    {
     "name": "stdout",
     "output_type": "stream",
     "text": [
      "This is a string that is too long to fit on one line, so we continue it here without any breaks.\n"
     ]
    }
   ],
   "source": [
    "# Backslash \\ - Use it at the end of each line to continue the string onto the next line without adding a line break.\n",
    "multi_line_string = \"This is a string that is too long to fit on one line, so we continue it \\\n",
    "here without any breaks.\"\n",
    "print(multi_line_string)"
   ]
  },
  {
   "cell_type": "code",
   "execution_count": 9,
   "id": "78d066df",
   "metadata": {},
   "outputs": [
    {
     "name": "stdout",
     "output_type": "stream",
     "text": [
      "This is a string\n",
      "that contains multiple lines,\n",
      "and we don't need to use a backslash.\n",
      "It also handles quotes, like \"this one\" and 'that one'.\n"
     ]
    }
   ],
   "source": [
    "# Triple Quotes ''' or \"\"\" - Use triple quotes for a string that spans multiple lines and includes line breaks.\n",
    "\n",
    "multi_line_quote = \"\"\"This is a string\n",
    "that contains multiple lines,\n",
    "and we don't need to use a backslash.\n",
    "It also handles quotes, like \"this one\" and 'that one'.\"\"\"\n",
    "print(multi_line_quote)"
   ]
  },
  {
   "cell_type": "code",
   "execution_count": 10,
   "id": "0b53a7db",
   "metadata": {},
   "outputs": [],
   "source": [
    "# Triple-quoted strings are commonly used in Python as docstrings, which are comments that describe what a function, class, or module does. They are placed immediately after the function or class definition.\n",
    "\n",
    "def greet(name):\n",
    "    \"\"\"\n",
    "    This function takes a name as input and returns a greeting string.\n",
    "\n",
    "    Parameters:\n",
    "    name (str): The name of the person to greet.\n",
    "\n",
    "    Returns:\n",
    "    str: A greeting message.\n",
    "    \"\"\"\n",
    "    return f\"Hello, {name}!\""
   ]
  },
  {
   "cell_type": "markdown",
   "id": "5751ee8f",
   "metadata": {},
   "source": [
    "Purpose: Docstrings serve as documentation for your code, helping others understand what the function does, what inputs it takes, and what output it produces."
   ]
  },
  {
   "cell_type": "code",
   "execution_count": null,
   "id": "7e7aa7d3",
   "metadata": {},
   "outputs": [],
   "source": []
  }
 ],
 "metadata": {
  "kernelspec": {
   "display_name": "base",
   "language": "python",
   "name": "python3"
  },
  "language_info": {
   "codemirror_mode": {
    "name": "ipython",
    "version": 3
   },
   "file_extension": ".py",
   "mimetype": "text/x-python",
   "name": "python",
   "nbconvert_exporter": "python",
   "pygments_lexer": "ipython3",
   "version": "3.11.7"
  }
 },
 "nbformat": 4,
 "nbformat_minor": 5
}
