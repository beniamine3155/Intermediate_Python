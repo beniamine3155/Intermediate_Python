{
 "cells": [
  {
   "cell_type": "markdown",
   "id": "c542468d",
   "metadata": {},
   "source": [
    "### What is a Lambda Function?\n",
    "\n",
    "A lambda function is:\n",
    "\n",
    "Anonymous → It doesn’t have a name like normal functions.\n",
    "\n",
    "One-liner → It’s written in a single line and can have only one expression.\n",
    "\n",
    "Returns automatically → You don’t need return; the expression’s result is returned.\n",
    "\n",
    "Temporary → Often used once or for short tasks."
   ]
  },
  {
   "cell_type": "code",
   "execution_count": 2,
   "id": "e97246b8",
   "metadata": {},
   "outputs": [
    {
     "data": {
      "text/plain": [
       "<function __main__.<lambda>(arguments)>"
      ]
     },
     "execution_count": 2,
     "metadata": {},
     "output_type": "execute_result"
    }
   ],
   "source": [
    "## Syntax\n",
    "lambda arguments: expression"
   ]
  },
  {
   "cell_type": "markdown",
   "id": "7d325433",
   "metadata": {},
   "source": [
    "#### Example — Lambda vs Normal Function"
   ]
  },
  {
   "cell_type": "code",
   "execution_count": 4,
   "id": "3a58147c",
   "metadata": {},
   "outputs": [
    {
     "name": "stdout",
     "output_type": "stream",
     "text": [
      "25\n"
     ]
    }
   ],
   "source": [
    "## Normal Function\n",
    "def square(x):\n",
    "    return x * x\n",
    "\n",
    "print(square(5))  # Output: 25"
   ]
  },
  {
   "cell_type": "code",
   "execution_count": 5,
   "id": "57853e42",
   "metadata": {},
   "outputs": [
    {
     "name": "stdout",
     "output_type": "stream",
     "text": [
      "25\n"
     ]
    }
   ],
   "source": [
    "## Lambda Function\n",
    "square = lambda x: x * x\n",
    "print(square(5))  # Output: 25"
   ]
  },
  {
   "cell_type": "code",
   "execution_count": null,
   "id": "b19aa7fe",
   "metadata": {},
   "outputs": [
    {
     "data": {
      "text/plain": [
       "30"
      ]
     },
     "execution_count": 6,
     "metadata": {},
     "output_type": "execute_result"
    }
   ],
   "source": [
    "## Lambda with arguments\n",
    "result = lambda a, b: a+b\n",
    "result(10, 20)"
   ]
  },
  {
   "cell_type": "code",
   "execution_count": 7,
   "id": "e05b449d",
   "metadata": {},
   "outputs": [
    {
     "data": {
      "text/plain": [
       "True"
      ]
     },
     "execution_count": 7,
     "metadata": {},
     "output_type": "execute_result"
    }
   ],
   "source": [
    "## check if a string has 'n'\n",
    "x = lambda str: 'n' in str\n",
    "x('nahid')"
   ]
  },
  {
   "cell_type": "code",
   "execution_count": 8,
   "id": "e0a7ea9f",
   "metadata": {},
   "outputs": [
    {
     "data": {
      "text/plain": [
       "'even'"
      ]
     },
     "execution_count": 8,
     "metadata": {},
     "output_type": "execute_result"
    }
   ],
   "source": [
    "## odd or even\n",
    "result = lambda num: 'even' if num%2==0 else 'odd'\n",
    "result(20)"
   ]
  },
  {
   "cell_type": "code",
   "execution_count": null,
   "id": "b964c562",
   "metadata": {},
   "outputs": [],
   "source": []
  }
 ],
 "metadata": {
  "kernelspec": {
   "display_name": "base",
   "language": "python",
   "name": "python3"
  },
  "language_info": {
   "codemirror_mode": {
    "name": "ipython",
    "version": 3
   },
   "file_extension": ".py",
   "mimetype": "text/x-python",
   "name": "python",
   "nbconvert_exporter": "python",
   "pygments_lexer": "ipython3",
   "version": "3.11.7"
  }
 },
 "nbformat": 4,
 "nbformat_minor": 5
}
