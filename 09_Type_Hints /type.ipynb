{
 "cells": [
  {
   "cell_type": "markdown",
   "id": "f9e1b0a7",
   "metadata": {},
   "source": [
    "### 1. Type Hints in Class Variables\n",
    "In Python, type hints help specify the expected type of a variable, which makes code more readable and assists IDEs and linters in catching type-related issues. They’re especially useful in larger codebases where it’s helpful to know the types of variables that a class should hold."
   ]
  },
  {
   "cell_type": "code",
   "execution_count": 1,
   "id": "a6436620",
   "metadata": {},
   "outputs": [],
   "source": [
    "class Book:\n",
    "    title: str\n",
    "    author: str\n"
   ]
  },
  {
   "cell_type": "markdown",
   "id": "2184b4d2",
   "metadata": {},
   "source": [
    "Here, title and author are annotated with str, indicating that these attributes are expected to be strings. However, type hints don’t enforce the types at runtime. They are mainly a guideline for developers and tools. You’d still need to assign the values, typically in __init__, like so:"
   ]
  },
  {
   "cell_type": "code",
   "execution_count": 2,
   "id": "4eba9569",
   "metadata": {},
   "outputs": [],
   "source": [
    "class Book:\n",
    "    title: str\n",
    "    author: str\n",
    "\n",
    "    def __init__(self, title: str, author: str):\n",
    "        self.title = title\n",
    "        self.author = author\n"
   ]
  },
  {
   "cell_type": "markdown",
   "id": "fa84afb4",
   "metadata": {},
   "source": [
    "### 2. Subclasses\n",
    "Subclasses allow you to create a class that inherits attributes and methods from another class. This is a form of polymorphism, where the subclass can either inherit or override behavior from the parent (or \"superclass\"). It’s useful when you want to build on existing functionality.\n",
    "\n",
    "Here's an example using Book as the base class:"
   ]
  },
  {
   "cell_type": "code",
   "execution_count": 3,
   "id": "a408535b",
   "metadata": {},
   "outputs": [],
   "source": [
    "class Book:\n",
    "    def __init__(self, title: str, author: str):\n",
    "        self.title = title\n",
    "        self.author = author\n",
    "\n",
    "    def get_description(self) -> str:\n",
    "        return f\"'{self.title}' by {self.author}\"\n",
    "\n",
    "# Subclass for eBooks\n",
    "class EBook(Book):\n",
    "    def __init__(self, title: str, author: str, file_format: str):\n",
    "        super().__init__(title, author)  # Initialize attributes from Book\n",
    "        self.file_format = file_format\n",
    "\n",
    "    def get_description(self) -> str:\n",
    "        # Overriding the parent class method\n",
    "        return f\"'{self.title}' by {self.author} (format: {self.file_format})\"\n"
   ]
  },
  {
   "cell_type": "markdown",
   "id": "c5530cac",
   "metadata": {},
   "source": [
    "#### In this example:\n",
    "\n",
    "- EBook is a subclass of Book.\n",
    "\n",
    "- We call super().__init__(title, author) to initialize the title and author properties from the Book class.\n",
    "\n",
    "- EBook also adds a new attribute, file_format, and overrides get_description() to include information about the file format.\n",
    "\n",
    "Subclasses can override methods in the superclass to provide specific functionality, as shown with get_description()."
   ]
  },
  {
   "cell_type": "markdown",
   "id": "7cfa26c1",
   "metadata": {},
   "source": [
    "### 3. Class Methods\n",
    "Class methods are methods that belong to the class itself, rather than any instance of the class. They are defined using the @classmethod decorator and take cls (representing the class) as their first parameter instead of self (representing the instance). Class methods are commonly used for factory methods—alternative constructors that return a new instance of the class with specific attributes set.\n",
    "\n",
    "Here’s how class methods work:"
   ]
  },
  {
   "cell_type": "code",
   "execution_count": 4,
   "id": "e8e37fe8",
   "metadata": {},
   "outputs": [],
   "source": [
    "from typing import List\n",
    "\n",
    "class Book:\n",
    "    title: str\n",
    "    author: str\n",
    "\n",
    "    def __init__(self, title: str, author: str):\n",
    "        self.title = title\n",
    "        self.author = author\n",
    "\n",
    "    def get_description(self) -> str:\n",
    "        return f\"'{self.title}' by {self.author}\"\n",
    "\n",
    "    @classmethod\n",
    "    def create_multiple(cls, titles_and_authors: List[tuple]) -> List['Book']:\n",
    "        \"\"\"Class method that returns a list of Book instances from a list of title-author pairs.\"\"\"\n",
    "        return [cls(title, author) for title, author in titles_and_authors]\n"
   ]
  },
  {
   "cell_type": "markdown",
   "id": "41a856d7",
   "metadata": {},
   "source": [
    "#### In this example:\n",
    "\n",
    "create_multiple is a class method, indicated by the @classmethod decorator.\n",
    "\n",
    "It takes a list of title-author pairs and creates a list of Book instances.\n",
    "\n",
    "We use cls instead of self, meaning cls will refer to Book when this method is called on Book.\n",
    "\n",
    "To use the create_multiple class method:"
   ]
  },
  {
   "cell_type": "code",
   "execution_count": 5,
   "id": "bf8180fb",
   "metadata": {},
   "outputs": [
    {
     "name": "stdout",
     "output_type": "stream",
     "text": [
      "'1984' by George Orwell\n",
      "'Brave New World' by Aldous Huxley\n"
     ]
    }
   ],
   "source": [
    "books = Book.create_multiple([(\"1984\", \"George Orwell\"), (\"Brave New World\", \"Aldous Huxley\")])\n",
    "for book in books:\n",
    "    print(book.get_description())\n"
   ]
  },
  {
   "cell_type": "code",
   "execution_count": 6,
   "id": "d5627346",
   "metadata": {},
   "outputs": [
    {
     "name": "stdout",
     "output_type": "stream",
     "text": [
      "'The Catcher in the Rye' by J.D. Salinger (1951)\n"
     ]
    }
   ],
   "source": [
    "class LibraryItem:\n",
    "    title: str\n",
    "    year: int\n",
    "\n",
    "    def __init__(self, title: str, year: int):\n",
    "        self.title = title\n",
    "        self.year = year\n",
    "\n",
    "    def get_info(self) -> str:\n",
    "        return f\"{self.title} ({self.year})\"\n",
    "\n",
    "class Book(LibraryItem):\n",
    "    author: str\n",
    "\n",
    "    def __init__(self, title: str, year: int, author: str):\n",
    "        super().__init__(title, year)\n",
    "        self.author = author\n",
    "\n",
    "    def get_info(self) -> str:\n",
    "        return f\"'{self.title}' by {self.author} ({self.year})\"\n",
    "\n",
    "    @classmethod\n",
    "    def from_string(cls, info: str) -> 'Book':\n",
    "        title, author, year = info.split(', ')\n",
    "        return cls(title, int(year), author)\n",
    "\n",
    "# Using the class method and the subclass\n",
    "book = Book.from_string(\"The Catcher in the Rye, J.D. Salinger, 1951\")\n",
    "print(book.get_info())\n"
   ]
  },
  {
   "cell_type": "code",
   "execution_count": null,
   "id": "abdbac07",
   "metadata": {},
   "outputs": [],
   "source": []
  }
 ],
 "metadata": {
  "kernelspec": {
   "display_name": "base",
   "language": "python",
   "name": "python3"
  },
  "language_info": {
   "codemirror_mode": {
    "name": "ipython",
    "version": 3
   },
   "file_extension": ".py",
   "mimetype": "text/x-python",
   "name": "python",
   "nbconvert_exporter": "python",
   "pygments_lexer": "ipython3",
   "version": "3.11.7"
  }
 },
 "nbformat": 4,
 "nbformat_minor": 5
}
