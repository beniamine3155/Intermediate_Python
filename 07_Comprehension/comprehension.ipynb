{
 "cells": [
  {
   "cell_type": "markdown",
   "id": "0e75511e",
   "metadata": {},
   "source": [
    "## List Comprehension"
   ]
  },
  {
   "cell_type": "markdown",
   "id": "e75754a5",
   "metadata": {},
   "source": [
    "### Traditional Way (Using Loop)"
   ]
  },
  {
   "cell_type": "code",
   "execution_count": 1,
   "id": "aa8bbdd8",
   "metadata": {},
   "outputs": [
    {
     "name": "stdout",
     "output_type": "stream",
     "text": [
      "apple\n",
      "banana\n",
      "kiwi\n",
      "mango\n",
      "orange\n"
     ]
    }
   ],
   "source": [
    "fruits = [\"apple\", \"banana\", \"kiwi\", \"mango\", \"orange\"]\n",
    "\n",
    "for fruit in fruits:\n",
    "    print(fruit)"
   ]
  },
  {
   "cell_type": "code",
   "execution_count": 3,
   "id": "1aa8cba8",
   "metadata": {},
   "outputs": [
    {
     "name": "stdout",
     "output_type": "stream",
     "text": [
      "['APPLE', 'BANANA', 'KIWI', 'MANGO', 'ORANGE']\n"
     ]
    }
   ],
   "source": [
    "# Creating a new list with uppercase values\n",
    "fruits_shouted = []\n",
    "for fruit in fruits:\n",
    "    fruits_shouted.append(fruit.upper())\n",
    "print(fruits_shouted)"
   ]
  },
  {
   "cell_type": "markdown",
   "id": "54088d04",
   "metadata": {},
   "source": [
    "### Using List Comprehension (Shortcut)"
   ]
  },
  {
   "cell_type": "code",
   "execution_count": 4,
   "id": "256ed851",
   "metadata": {},
   "outputs": [
    {
     "name": "stdout",
     "output_type": "stream",
     "text": [
      "['APPLE', 'BANANA', 'KIWI', 'MANGO', 'ORANGE']\n"
     ]
    }
   ],
   "source": [
    "fruits_shouted2 = [fruit.upper() for fruit in fruits]\n",
    "print(fruits_shouted2)"
   ]
  },
  {
   "cell_type": "markdown",
   "id": "984f8d83",
   "metadata": {},
   "source": [
    "###  List Comprehension with Filtering (Using if)"
   ]
  },
  {
   "cell_type": "code",
   "execution_count": 5,
   "id": "8a5f0776",
   "metadata": {},
   "outputs": [
    {
     "name": "stdout",
     "output_type": "stream",
     "text": [
      "['BANANA', 'ORANGE']\n"
     ]
    }
   ],
   "source": [
    "fruits_with_longer_names_shouted = [fruit.upper() for fruit in fruits if len(fruit) > 5]\n",
    "print(fruits_with_longer_names_shouted)"
   ]
  },
  {
   "cell_type": "markdown",
   "id": "9f01f2cd",
   "metadata": {},
   "source": [
    "##  Dictionary Comprehension\n"
   ]
  },
  {
   "cell_type": "markdown",
   "id": "0357f465",
   "metadata": {},
   "source": [
    "### Creating a dictionary from a list"
   ]
  },
  {
   "cell_type": "code",
   "execution_count": 6,
   "id": "2056db8c",
   "metadata": {},
   "outputs": [],
   "source": [
    "fruit_mapping = {fruit: fruit.upper() for fruit in fruits}"
   ]
  },
  {
   "cell_type": "code",
   "execution_count": 7,
   "id": "4d641809",
   "metadata": {},
   "outputs": [
    {
     "data": {
      "text/plain": [
       "{'apple': 'APPLE',\n",
       " 'banana': 'BANANA',\n",
       " 'kiwi': 'KIWI',\n",
       " 'mango': 'MANGO',\n",
       " 'orange': 'ORANGE'}"
      ]
     },
     "execution_count": 7,
     "metadata": {},
     "output_type": "execute_result"
    }
   ],
   "source": [
    "fruit_mapping"
   ]
  },
  {
   "cell_type": "markdown",
   "id": "9a2ad4ab",
   "metadata": {},
   "source": [
    "###  Filtering in Dict Comprehension"
   ]
  },
  {
   "cell_type": "code",
   "execution_count": 12,
   "id": "0ff06ac8",
   "metadata": {},
   "outputs": [],
   "source": [
    "fruits = [\"apple\", \"banana\", \"kiwi\", \"mango\", \"orange\"]"
   ]
  },
  {
   "cell_type": "code",
   "execution_count": 19,
   "id": "b8742818",
   "metadata": {},
   "outputs": [],
   "source": [
    "fruit_mapping_unless_starts_with_a = {fruit: fruit.upper() for fruit in fruits if not fruit.startswith('a')}"
   ]
  },
  {
   "cell_type": "code",
   "execution_count": 20,
   "id": "b7f4a14b",
   "metadata": {},
   "outputs": [
    {
     "data": {
      "text/plain": [
       "{'banana': 'BANANA', 'kiwi': 'KIWI', 'mango': 'MANGO', 'orange': 'ORANGE'}"
      ]
     },
     "execution_count": 20,
     "metadata": {},
     "output_type": "execute_result"
    }
   ],
   "source": [
    "fruit_mapping_unless_starts_with_a"
   ]
  },
  {
   "cell_type": "markdown",
   "id": "1fa1c88a",
   "metadata": {},
   "source": [
    "### Working with List of Dictionaries"
   ]
  },
  {
   "cell_type": "code",
   "execution_count": 21,
   "id": "f5f4be28",
   "metadata": {},
   "outputs": [],
   "source": [
    "books = [\n",
    "    {'title': 'Python 101', 'author': 'Mike'},\n",
    "    {'title': 'AI for Beginners', 'author': 'Anna'},\n",
    "    {'title': 'No Author Book'},  # <- Missing 'author'\n",
    "    {'title': 'Data Science Guide', 'author': 'Mike'}\n",
    "]\n"
   ]
  },
  {
   "cell_type": "code",
   "execution_count": 22,
   "id": "45ffff7e",
   "metadata": {},
   "outputs": [
    {
     "data": {
      "text/plain": [
       "['Python 101', 'AI for Beginners', 'No Author Book', 'Data Science Guide']"
      ]
     },
     "execution_count": 22,
     "metadata": {},
     "output_type": "execute_result"
    }
   ],
   "source": [
    "# Extracting titles (safe):\n",
    "\n",
    "[book['title'] for book in books]"
   ]
  },
  {
   "cell_type": "code",
   "execution_count": null,
   "id": "523d0818",
   "metadata": {},
   "outputs": [],
   "source": [
    "# This will cause an error:\n",
    "\n",
    "[book['author'] for book in books]\n",
    "\n",
    "# Why? One book doesn’t have an author key, so:"
   ]
  },
  {
   "cell_type": "code",
   "execution_count": 24,
   "id": "c618e27f",
   "metadata": {},
   "outputs": [
    {
     "data": {
      "text/plain": [
       "['Mike', 'Anna', None, 'Mike']"
      ]
     },
     "execution_count": 24,
     "metadata": {},
     "output_type": "execute_result"
    }
   ],
   "source": [
    "# Using .get() avoids the error:\n",
    "\n",
    "[book.get('author') for book in books]"
   ]
  },
  {
   "cell_type": "code",
   "execution_count": 25,
   "id": "e5dfbdf4",
   "metadata": {},
   "outputs": [
    {
     "data": {
      "text/plain": [
       "['Mike', 'Anna', 'Mike']"
      ]
     },
     "execution_count": 25,
     "metadata": {},
     "output_type": "execute_result"
    }
   ],
   "source": [
    "# Filtering out None:\n",
    "\n",
    "[book.get('author') for book in books if book.get('author')]"
   ]
  },
  {
   "cell_type": "markdown",
   "id": "ac0aa450",
   "metadata": {},
   "source": [
    "### Removing Duplicates\n"
   ]
  },
  {
   "cell_type": "code",
   "execution_count": 26,
   "id": "6401c76f",
   "metadata": {},
   "outputs": [
    {
     "data": {
      "text/plain": [
       "{'Anna', 'Mike'}"
      ]
     },
     "execution_count": 26,
     "metadata": {},
     "output_type": "execute_result"
    }
   ],
   "source": [
    "# Using set():\n",
    "\n",
    "set([book.get('author') for book in books if book.get('author')])"
   ]
  },
  {
   "cell_type": "markdown",
   "id": "8f9a9101",
   "metadata": {},
   "source": [
    "## Set Comprehension (Even Shorter)\n",
    "\n"
   ]
  },
  {
   "cell_type": "code",
   "execution_count": 27,
   "id": "e88075ba",
   "metadata": {},
   "outputs": [
    {
     "data": {
      "text/plain": [
       "{'Anna', 'Mike'}"
      ]
     },
     "execution_count": 27,
     "metadata": {},
     "output_type": "execute_result"
    }
   ],
   "source": [
    "{book.get('author') for book in books if book.get('author')}\n"
   ]
  },
  {
   "cell_type": "code",
   "execution_count": null,
   "id": "8dc4512c",
   "metadata": {},
   "outputs": [],
   "source": []
  }
 ],
 "metadata": {
  "kernelspec": {
   "display_name": "base",
   "language": "python",
   "name": "python3"
  },
  "language_info": {
   "codemirror_mode": {
    "name": "ipython",
    "version": 3
   },
   "file_extension": ".py",
   "mimetype": "text/x-python",
   "name": "python",
   "nbconvert_exporter": "python",
   "pygments_lexer": "ipython3",
   "version": "3.11.7"
  }
 },
 "nbformat": 4,
 "nbformat_minor": 5
}
