{
 "cells": [
  {
   "cell_type": "markdown",
   "id": "bc26eef1",
   "metadata": {},
   "source": [
    "### What is a Set?\n",
    "A set is an unordered, mutable, and non-duplicate collection."
   ]
  },
  {
   "cell_type": "markdown",
   "id": "85be49c8",
   "metadata": {},
   "source": [
    "# Syntax: \n",
    "my_set = {1, 2, 3}"
   ]
  },
  {
   "cell_type": "code",
   "execution_count": 5,
   "id": "cb5d2974",
   "metadata": {},
   "outputs": [
    {
     "name": "stdout",
     "output_type": "stream",
     "text": [
      "{1, 2, 3, 4, 5}\n"
     ]
    }
   ],
   "source": [
    "numbers = {1, 2, 3, 4, 4, 5}\n",
    "\n",
    "# Duplicate values are automatically removed\n",
    "print(numbers) "
   ]
  },
  {
   "cell_type": "code",
   "execution_count": 6,
   "id": "7849c31b",
   "metadata": {},
   "outputs": [
    {
     "name": "stdout",
     "output_type": "stream",
     "text": [
      "{1, 2, 3, 4, 5, 6}\n"
     ]
    }
   ],
   "source": [
    "# Add an element\n",
    "numbers.add(6)\n",
    "print(numbers) "
   ]
  },
  {
   "cell_type": "code",
   "execution_count": 7,
   "id": "a2d3808c",
   "metadata": {},
   "outputs": [
    {
     "name": "stdout",
     "output_type": "stream",
     "text": [
      "{1, 2, 4, 5, 6}\n"
     ]
    }
   ],
   "source": [
    "# Remove an element\n",
    "numbers.remove(3)\n",
    "print(numbers) "
   ]
  },
  {
   "cell_type": "code",
   "execution_count": 8,
   "id": "abb8ef94",
   "metadata": {},
   "outputs": [
    {
     "name": "stdout",
     "output_type": "stream",
     "text": [
      "True\n"
     ]
    }
   ],
   "source": [
    "# Check if an item exists\n",
    "print(2 in numbers) "
   ]
  },
  {
   "cell_type": "code",
   "execution_count": 9,
   "id": "4c0bd1ce",
   "metadata": {},
   "outputs": [
    {
     "name": "stdout",
     "output_type": "stream",
     "text": [
      "1\n",
      "2\n",
      "4\n",
      "5\n",
      "6\n"
     ]
    }
   ],
   "source": [
    "# Looping through a set\n",
    "for num in numbers:\n",
    "    print(num)"
   ]
  },
  {
   "cell_type": "code",
   "execution_count": 11,
   "id": "c57ae437",
   "metadata": {},
   "outputs": [
    {
     "name": "stdout",
     "output_type": "stream",
     "text": [
      "{1, 2, 3, 4, 5}\n",
      "{3}\n",
      "{1, 2}\n"
     ]
    }
   ],
   "source": [
    "# Set operations\n",
    "a = {1, 2, 3}\n",
    "b = {3, 4, 5}\n",
    "\n",
    "\n",
    "print(a.union(b))        # Output: {1, 2, 3, 4, 5}\n",
    "print(a.intersection(b)) # Output: {3}\n",
    "print(a.difference(b))   # Output: {1, 2}"
   ]
  }
 ],
 "metadata": {
  "kernelspec": {
   "display_name": "base",
   "language": "python",
   "name": "python3"
  },
  "language_info": {
   "codemirror_mode": {
    "name": "ipython",
    "version": 3
   },
   "file_extension": ".py",
   "mimetype": "text/x-python",
   "name": "python",
   "nbconvert_exporter": "python",
   "pygments_lexer": "ipython3",
   "version": "3.11.7"
  }
 },
 "nbformat": 4,
 "nbformat_minor": 5
}
