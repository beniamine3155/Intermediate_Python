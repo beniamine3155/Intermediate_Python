{
 "cells": [
  {
   "cell_type": "markdown",
   "id": "61b0354b",
   "metadata": {},
   "source": [
    "### What is a List?\n",
    "A list is an ordered, mutable (changeable) collection of items. You can store numbers, strings, or even other lists."
   ]
  },
  {
   "cell_type": "code",
   "execution_count": 1,
   "id": "ef5d96ca",
   "metadata": {},
   "outputs": [
    {
     "name": "stdout",
     "output_type": "stream",
     "text": [
      "apple\n"
     ]
    }
   ],
   "source": [
    "fruits = [\"apple\", \"banana\", \"mango\"]\n",
    "\n",
    "# Accessing elements\n",
    "print(fruits[0]) "
   ]
  },
  {
   "cell_type": "code",
   "execution_count": 2,
   "id": "4731cf4d",
   "metadata": {},
   "outputs": [
    {
     "name": "stdout",
     "output_type": "stream",
     "text": [
      "['apple', 'banana', 'mango', 'orange']\n"
     ]
    }
   ],
   "source": [
    "# Adding an item\n",
    "fruits.append(\"orange\")\n",
    "print(fruits) "
   ]
  },
  {
   "cell_type": "code",
   "execution_count": 3,
   "id": "973e2206",
   "metadata": {},
   "outputs": [
    {
     "name": "stdout",
     "output_type": "stream",
     "text": [
      "['apple', 'mango', 'orange']\n"
     ]
    }
   ],
   "source": [
    "# Removing an item\n",
    "fruits.remove(\"banana\")\n",
    "print(fruits)"
   ]
  },
  {
   "cell_type": "code",
   "execution_count": 4,
   "id": "9e534c67",
   "metadata": {},
   "outputs": [
    {
     "name": "stdout",
     "output_type": "stream",
     "text": [
      "['mango', 'orange']\n"
     ]
    }
   ],
   "source": [
    "# Slicing\n",
    "print(fruits[1:3]) "
   ]
  },
  {
   "cell_type": "code",
   "execution_count": 5,
   "id": "cbea5b46",
   "metadata": {},
   "outputs": [
    {
     "name": "stdout",
     "output_type": "stream",
     "text": [
      "apple\n",
      "mango\n",
      "orange\n"
     ]
    }
   ],
   "source": [
    "# Looping\n",
    "for fruit in fruits:\n",
    "    print(fruit)"
   ]
  },
  {
   "cell_type": "code",
   "execution_count": 6,
   "id": "ea0b4c8a",
   "metadata": {},
   "outputs": [
    {
     "name": "stdout",
     "output_type": "stream",
     "text": [
      "True\n"
     ]
    }
   ],
   "source": [
    "# Check if item exists\n",
    "print(\"apple\" in fruits)"
   ]
  },
  {
   "cell_type": "code",
   "execution_count": null,
   "id": "d63ded0d",
   "metadata": {},
   "outputs": [],
   "source": []
  }
 ],
 "metadata": {
  "kernelspec": {
   "display_name": "base",
   "language": "python",
   "name": "python3"
  },
  "language_info": {
   "codemirror_mode": {
    "name": "ipython",
    "version": 3
   },
   "file_extension": ".py",
   "mimetype": "text/x-python",
   "name": "python",
   "nbconvert_exporter": "python",
   "pygments_lexer": "ipython3",
   "version": "3.11.7"
  }
 },
 "nbformat": 4,
 "nbformat_minor": 5
}
