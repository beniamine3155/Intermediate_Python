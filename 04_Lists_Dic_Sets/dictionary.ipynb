{
 "cells": [
  {
   "cell_type": "markdown",
   "id": "1ae36675",
   "metadata": {},
   "source": [
    "### What is a Dictionary?\n",
    "A dictionary is an unordered, mutable collection of key-value pairs."
   ]
  },
  {
   "cell_type": "code",
   "execution_count": 1,
   "id": "2e25f668",
   "metadata": {},
   "outputs": [],
   "source": [
    "# Syntax:\n",
    "\n",
    "person = {\n",
    "    \"name\": \"Nahid\",\n",
    "    \"age\": 22,\n",
    "    \"city\": \"Dhaka\"\n",
    "}"
   ]
  },
  {
   "cell_type": "code",
   "execution_count": 2,
   "id": "2fabd919",
   "metadata": {},
   "outputs": [
    {
     "name": "stdout",
     "output_type": "stream",
     "text": [
      "Nahid\n"
     ]
    }
   ],
   "source": [
    "# Accessing values by key\n",
    "print(person[\"name\"]) "
   ]
  },
  {
   "cell_type": "code",
   "execution_count": 3,
   "id": "de722a79",
   "metadata": {},
   "outputs": [],
   "source": [
    "# Adding a new key-value pair\n",
    "person[\"country\"] = \"Bangladesh\""
   ]
  },
  {
   "cell_type": "code",
   "execution_count": 4,
   "id": "b2a1f138",
   "metadata": {},
   "outputs": [],
   "source": [
    "# Updating a value\n",
    "person[\"age\"] = 23"
   ]
  },
  {
   "cell_type": "code",
   "execution_count": 5,
   "id": "b3163b3e",
   "metadata": {},
   "outputs": [
    {
     "name": "stdout",
     "output_type": "stream",
     "text": [
      "name → Nahid\n",
      "age → 23\n",
      "city → Dhaka\n",
      "country → Bangladesh\n"
     ]
    }
   ],
   "source": [
    "# Looping through keys and values\n",
    "for key, value in person.items():\n",
    "    print(key, \"→\", value)"
   ]
  },
  {
   "cell_type": "code",
   "execution_count": 6,
   "id": "aa9a98f9",
   "metadata": {},
   "outputs": [
    {
     "name": "stdout",
     "output_type": "stream",
     "text": [
      "True\n"
     ]
    }
   ],
   "source": [
    "# Check if a key exists\n",
    "print(\"name\" in person) "
   ]
  },
  {
   "cell_type": "code",
   "execution_count": 7,
   "id": "47a69f11",
   "metadata": {},
   "outputs": [
    {
     "name": "stdout",
     "output_type": "stream",
     "text": [
      "{'name': 'Nahid', 'age': 23, 'country': 'Bangladesh'}\n"
     ]
    }
   ],
   "source": [
    "# Removing a key\n",
    "del person[\"city\"]\n",
    "print(person)"
   ]
  },
  {
   "cell_type": "code",
   "execution_count": 8,
   "id": "458e6a8b",
   "metadata": {},
   "outputs": [
    {
     "name": "stdout",
     "output_type": "stream",
     "text": [
      "Nahid\n",
      "None\n"
     ]
    }
   ],
   "source": [
    "# The get() method safely accesses a key — without throwing an error if the key doesn’t exist.\n",
    "\n",
    "print(person.get(\"name\")) \n",
    "print(person.get(\"city\"))"
   ]
  },
  {
   "cell_type": "code",
   "execution_count": null,
   "id": "8ef02ab8",
   "metadata": {},
   "outputs": [],
   "source": []
  }
 ],
 "metadata": {
  "kernelspec": {
   "display_name": "base",
   "language": "python",
   "name": "python3"
  },
  "language_info": {
   "codemirror_mode": {
    "name": "ipython",
    "version": 3
   },
   "file_extension": ".py",
   "mimetype": "text/x-python",
   "name": "python",
   "nbconvert_exporter": "python",
   "pygments_lexer": "ipython3",
   "version": "3.11.7"
  }
 },
 "nbformat": 4,
 "nbformat_minor": 5
}
