{
 "cells": [
  {
   "cell_type": "markdown",
   "id": "6247a56f",
   "metadata": {},
   "source": [
    "## What is import in Python?\n",
    "\n",
    "The import statement is how you bring code (like functions, variables, or classes) from other Python files or libraries into your own script.\n",
    "\n",
    "Think of import like borrowing tools from a toolbox. You don’t need to build everything from scratch — just import what you need."
   ]
  },
  {
   "cell_type": "markdown",
   "id": "023ae1c3",
   "metadata": {},
   "source": [
    "### 1. import module_name"
   ]
  },
  {
   "cell_type": "code",
   "execution_count": 1,
   "id": "7aa28d2b",
   "metadata": {},
   "outputs": [
    {
     "name": "stdout",
     "output_type": "stream",
     "text": [
      "4.0\n",
      "3.141592653589793\n"
     ]
    }
   ],
   "source": [
    "import math \n",
    "\n",
    "# This means: \"Bring the entire math module into my program.\"\n",
    "# To use anything from the math module, you must use dot notation:\n",
    "\n",
    "print(math.sqrt(16))\n",
    "print(math.pi)"
   ]
  },
  {
   "cell_type": "markdown",
   "id": "a09eb646",
   "metadata": {},
   "source": [
    "I have borrowed the entire toolbox named math"
   ]
  },
  {
   "cell_type": "markdown",
   "id": "16d3ec91",
   "metadata": {},
   "source": [
    "###  2. from module_name import specific_function_or_variable"
   ]
  },
  {
   "cell_type": "code",
   "execution_count": 5,
   "id": "24d923d8",
   "metadata": {},
   "outputs": [
    {
     "name": "stdout",
     "output_type": "stream",
     "text": [
      "3.141592653589793\n",
      "5.0\n"
     ]
    }
   ],
   "source": [
    "from math import pi, sqrt\n",
    "\n",
    "# This means: \"Bring only sqrt and pi from the math module into my program.\"\n",
    "# Now, you can use them directly, without the math. prefix\n",
    "\n",
    "print(pi)\n",
    "print(sqrt(25))\n"
   ]
  },
  {
   "cell_type": "markdown",
   "id": "c36f8118",
   "metadata": {},
   "source": [
    "I have borrowed only two tools (sqrt and pi) from the math toolbox"
   ]
  },
  {
   "cell_type": "markdown",
   "id": "66e46485",
   "metadata": {},
   "source": [
    "### 3. import module_name as alias"
   ]
  },
  {
   "cell_type": "code",
   "execution_count": 6,
   "id": "2d462870",
   "metadata": {},
   "outputs": [
    {
     "name": "stdout",
     "output_type": "stream",
     "text": [
      "[1 4 7]\n"
     ]
    }
   ],
   "source": [
    "import numpy as np\n",
    "\n",
    "# This is commonly used when a module has a long name, and you want to make it easier to type.\n",
    "\n",
    "array = np.array([1,4,7])\n",
    "print(array)"
   ]
  },
  {
   "cell_type": "markdown",
   "id": "1fd355c9",
   "metadata": {},
   "source": [
    "### 4. from module_name import * (Not Recommended)"
   ]
  },
  {
   "cell_type": "code",
   "execution_count": 7,
   "id": "7751a29b",
   "metadata": {},
   "outputs": [],
   "source": [
    "from math import *\n",
    "\n",
    "# This imports everything from the module directly."
   ]
  },
  {
   "cell_type": "markdown",
   "id": "1b24e199",
   "metadata": {},
   "source": [
    "### 5. Real-world Examples"
   ]
  },
  {
   "cell_type": "code",
   "execution_count": null,
   "id": "cd53fbcc",
   "metadata": {},
   "outputs": [
    {
     "name": "stdout",
     "output_type": "stream",
     "text": [
      "7\n"
     ]
    }
   ],
   "source": [
    "from random import randint\n",
    "\n",
    "print(randint(1, 10)) # Random integer between 1 and 10"
   ]
  },
  {
   "cell_type": "code",
   "execution_count": 12,
   "id": "36e586b3",
   "metadata": {},
   "outputs": [
    {
     "name": "stdout",
     "output_type": "stream",
     "text": [
      "DataFrame:\n",
      "       Name  Age\n",
      "0    Alice   25\n",
      "1      Bob   30\n",
      "2  Charlie   22\n",
      "\n",
      "Second DataFrame:\n",
      "       Country Code\n",
      "0  Bangladesh   BD\n",
      "1       India   IN\n"
     ]
    }
   ],
   "source": [
    " # Using Third-party Module: pandas\n",
    "\n",
    "import pandas as pd  # importing with alias\n",
    "\n",
    "# Create a simple DataFrame\n",
    "data = {\n",
    "    'Name': ['Alice', 'Bob', 'Charlie'],\n",
    "    'Age': [25, 30, 22]\n",
    "}\n",
    "\n",
    "df = pd.DataFrame(data)\n",
    "print(\"DataFrame:\\n\", df)\n",
    "\n",
    "# Only importing a single function\n",
    "from pandas import DataFrame\n",
    "\n",
    "df2 = DataFrame({'Country': ['Bangladesh', 'India'], 'Code': ['BD', 'IN']})\n",
    "print(\"\\nSecond DataFrame:\\n\", df2)"
   ]
  },
  {
   "cell_type": "code",
   "execution_count": null,
   "id": "82c855f7",
   "metadata": {},
   "outputs": [],
   "source": []
  }
 ],
 "metadata": {
  "kernelspec": {
   "display_name": "base",
   "language": "python",
   "name": "python3"
  },
  "language_info": {
   "codemirror_mode": {
    "name": "ipython",
    "version": 3
   },
   "file_extension": ".py",
   "mimetype": "text/x-python",
   "name": "python",
   "nbconvert_exporter": "python",
   "pygments_lexer": "ipython3",
   "version": "3.11.7"
  }
 },
 "nbformat": 4,
 "nbformat_minor": 5
}
