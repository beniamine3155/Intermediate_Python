{
 "cells": [
  {
   "cell_type": "markdown",
   "id": "94ce633b",
   "metadata": {},
   "source": [
    "## What is a Function?\n",
    "A function is a block of reusable code that performs a specific task. You \"call\" (run) a function when you want that task done."
   ]
  },
  {
   "cell_type": "code",
   "execution_count": null,
   "id": "47f4e262",
   "metadata": {},
   "outputs": [
    {
     "data": {
      "text/plain": [
       "4"
      ]
     },
     "execution_count": 1,
     "metadata": {},
     "output_type": "execute_result"
    }
   ],
   "source": [
    "# Syntax of a Function\n",
    "def function_name(parameters):\n",
    "    # Block of code\n",
    "    return result"
   ]
  },
  {
   "cell_type": "code",
   "execution_count": 1,
   "id": "2fbafb28",
   "metadata": {},
   "outputs": [
    {
     "name": "stdout",
     "output_type": "stream",
     "text": [
      "Hello, Nahid!\n"
     ]
    }
   ],
   "source": [
    "def greet(name):\n",
    "    return f\"Hello, {name}!\"\n",
    "\n",
    "# Call the function:\n",
    "print(greet(\"Nahid\"))"
   ]
  },
  {
   "cell_type": "markdown",
   "id": "5bc405c8",
   "metadata": {},
   "source": [
    "#### Why Use Functions?\n",
    "Reusability: Write once, use many times.\n",
    "\n",
    "Modularity: Makes code easier to organize.\n",
    "\n",
    "Readability: Breaks complex problems into smaller pieces.\n",
    "\n",
    "Debugging: Easier to find and fix bugs."
   ]
  },
  {
   "cell_type": "markdown",
   "id": "b91bb3b6",
   "metadata": {},
   "source": [
    "### Components of a Function"
   ]
  },
  {
   "cell_type": "markdown",
   "id": "cf5700bd",
   "metadata": {},
   "source": [
    "#### 1. Function with no parameters and no return"
   ]
  },
  {
   "cell_type": "code",
   "execution_count": 2,
   "id": "f5386ed4",
   "metadata": {},
   "outputs": [
    {
     "name": "stdout",
     "output_type": "stream",
     "text": [
      "Hello, World!\n"
     ]
    }
   ],
   "source": [
    "def say_hello():\n",
    "    print(\"Hello, World!\")\n",
    "\n",
    "say_hello()"
   ]
  },
  {
   "cell_type": "markdown",
   "id": "c23e430e",
   "metadata": {},
   "source": [
    "#### 2. Function with parameters but no return"
   ]
  },
  {
   "cell_type": "code",
   "execution_count": 3,
   "id": "c3c60c6a",
   "metadata": {},
   "outputs": [
    {
     "name": "stdout",
     "output_type": "stream",
     "text": [
      "Hello, Beniamine!\n"
     ]
    }
   ],
   "source": [
    "def great_user(name):\n",
    "    print(f\"Hello, {name}!\")\n",
    "\n",
    "great_user(\"Beniamine\")"
   ]
  },
  {
   "cell_type": "markdown",
   "id": "7d6b0de8",
   "metadata": {},
   "source": [
    "#### 3. Function with parameters and return value"
   ]
  },
  {
   "cell_type": "code",
   "execution_count": 4,
   "id": "b9de0d6b",
   "metadata": {},
   "outputs": [
    {
     "name": "stdout",
     "output_type": "stream",
     "text": [
      "8\n"
     ]
    }
   ],
   "source": [
    "def add(a, b):\n",
    "    return a + b\n",
    "\n",
    "result = add(5, 3)\n",
    "print(result)"
   ]
  },
  {
   "cell_type": "markdown",
   "id": "7b7e2e9d",
   "metadata": {},
   "source": [
    "### Function Arguments/Parameters"
   ]
  },
  {
   "cell_type": "code",
   "execution_count": 6,
   "id": "0537357d",
   "metadata": {},
   "outputs": [
    {
     "name": "stdout",
     "output_type": "stream",
     "text": [
      "Beniamine Nahid\n"
     ]
    }
   ],
   "source": [
    "# 1. Positional Arguments (order matters)\n",
    "def full_name(first, last):\n",
    "    return f\"{first} {last}\"\n",
    "\n",
    "print(full_name(\"Beniamine\", \"Nahid\"))"
   ]
  },
  {
   "cell_type": "code",
   "execution_count": 7,
   "id": "948085a4",
   "metadata": {},
   "outputs": [
    {
     "name": "stdout",
     "output_type": "stream",
     "text": [
      "Beniamine Nahid\n"
     ]
    }
   ],
   "source": [
    "# 2. Keyword Arguments (order doesn't matter)\n",
    "\n",
    "print(full_name(last=\"Nahid\", first=\"Beniamine\"))  "
   ]
  },
  {
   "cell_type": "code",
   "execution_count": 8,
   "id": "3db6eecc",
   "metadata": {},
   "outputs": [
    {
     "name": "stdout",
     "output_type": "stream",
     "text": [
      "Welcome, Guest!\n",
      "Welcome, Nahid!\n"
     ]
    }
   ],
   "source": [
    "# 3. Default Arguments (uses a default if not provided)\n",
    "\n",
    "def greet(name=\"Guest\"):\n",
    "    return f\"Welcome, {name}!\"\n",
    "\n",
    "print(greet())          \n",
    "print(greet(\"Nahid\"))"
   ]
  },
  {
   "cell_type": "code",
   "execution_count": null,
   "id": "543bbc6b",
   "metadata": {},
   "outputs": [
    {
     "name": "stdout",
     "output_type": "stream",
     "text": [
      "10\n"
     ]
    }
   ],
   "source": [
    "# 4. Arbitrary Arguments (*args for multiple values)\n",
    "# *args collects extra positional arguments as a tuple.\n",
    "\n",
    "def sum_all(*numbers):\n",
    "    return sum(numbers)\n",
    "\n",
    "print(sum_all(1, 2, 3, 4))\n"
   ]
  },
  {
   "cell_type": "code",
   "execution_count": 10,
   "id": "b9cf67b1",
   "metadata": {},
   "outputs": [
    {
     "name": "stdout",
     "output_type": "stream",
     "text": [
      "name: Nahid\n",
      "age: 22\n",
      "city: Dhaka\n"
     ]
    }
   ],
   "source": [
    "# 5. Arbitrary Keyword Arguments (**kwargs)\n",
    "# **kwargs collects extra named arguments as a dictionary.\n",
    "def show_info(**info):\n",
    "    for key, value in info.items():\n",
    "        print(f\"{key}: {value}\")\n",
    "\n",
    "show_info(name=\"Nahid\", age=22, city=\"Dhaka\")"
   ]
  },
  {
   "cell_type": "markdown",
   "id": "1571b7d1",
   "metadata": {},
   "source": [
    "### Recursive Function\n",
    "A function that calls itself."
   ]
  },
  {
   "cell_type": "code",
   "execution_count": 11,
   "id": "46bb0cb0",
   "metadata": {},
   "outputs": [
    {
     "name": "stdout",
     "output_type": "stream",
     "text": [
      "120\n"
     ]
    }
   ],
   "source": [
    "def factorial(n):\n",
    "    if n == 1:\n",
    "        return 1\n",
    "    return n * factorial(n - 1)\n",
    "\n",
    "print(factorial(5))"
   ]
  },
  {
   "cell_type": "markdown",
   "id": "8b0a6b5c",
   "metadata": {},
   "source": [
    "### Lambda Function (Anonymous)\n",
    "A lambda function is a small, one-line anonymous function (a function without a name) used for simple operations."
   ]
  },
  {
   "cell_type": "code",
   "execution_count": null,
   "id": "bcf18a6a",
   "metadata": {},
   "outputs": [],
   "source": [
    "# Syntax : \n",
    "lambda arguments: expression"
   ]
  },
  {
   "cell_type": "code",
   "execution_count": 12,
   "id": "83fca0a1",
   "metadata": {},
   "outputs": [
    {
     "name": "stdout",
     "output_type": "stream",
     "text": [
      "16\n"
     ]
    }
   ],
   "source": [
    "square = lambda x: x ** 2\n",
    "print(square(4))"
   ]
  },
  {
   "cell_type": "code",
   "execution_count": 13,
   "id": "fe875d92",
   "metadata": {},
   "outputs": [
    {
     "name": "stdout",
     "output_type": "stream",
     "text": [
      "[1, 4, 9, 16, 25]\n"
     ]
    }
   ],
   "source": [
    "numbers = [1, 2, 3, 4, 5]\n",
    "squares = list(map(lambda x: x ** 2, numbers))\n",
    "print(squares) "
   ]
  },
  {
   "cell_type": "code",
   "execution_count": null,
   "id": "c9885873",
   "metadata": {},
   "outputs": [],
   "source": []
  }
 ],
 "metadata": {
  "kernelspec": {
   "display_name": "base",
   "language": "python",
   "name": "python3"
  },
  "language_info": {
   "codemirror_mode": {
    "name": "ipython",
    "version": 3
   },
   "file_extension": ".py",
   "mimetype": "text/x-python",
   "name": "python",
   "nbconvert_exporter": "python",
   "pygments_lexer": "ipython3",
   "version": "3.11.7"
  }
 },
 "nbformat": 4,
 "nbformat_minor": 5
}
