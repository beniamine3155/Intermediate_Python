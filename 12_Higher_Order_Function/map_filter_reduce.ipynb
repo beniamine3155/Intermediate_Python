{
 "cells": [
  {
   "cell_type": "markdown",
   "id": "7de0eb46",
   "metadata": {},
   "source": [
    "### Higher Order Functions"
   ]
  },
  {
   "cell_type": "markdown",
   "id": "9536630a",
   "metadata": {},
   "source": [
    "#### map"
   ]
  },
  {
   "cell_type": "code",
   "execution_count": null,
   "id": "b1903b94",
   "metadata": {},
   "outputs": [
    {
     "data": {
      "text/plain": [
       "[1, 4, 9, 16, 25]"
      ]
     },
     "execution_count": 2,
     "metadata": {},
     "output_type": "execute_result"
    }
   ],
   "source": [
    "## Square the items of a list\n",
    "list(map(lambda x: x**2, [1,2,3,4,5]))"
   ]
  },
  {
   "cell_type": "code",
   "execution_count": 4,
   "id": "bf55e6aa",
   "metadata": {},
   "outputs": [
    {
     "data": {
      "text/plain": [
       "['odd', 'even', 'even', 'even', 'odd', 'even']"
      ]
     },
     "execution_count": 4,
     "metadata": {},
     "output_type": "execute_result"
    }
   ],
   "source": [
    "## odd/even labelling of list items\n",
    "L = {5,6,8,10,12,11}\n",
    "list(map(lambda x: 'even' if x%2==0 else 'odd', L))"
   ]
  },
  {
   "cell_type": "code",
   "execution_count": 7,
   "id": "7f31d516",
   "metadata": {},
   "outputs": [],
   "source": [
    "## Fetch book names from a list of dict\n",
    "books = [\n",
    "    {\n",
    "        'book': 'The Alchemist',\n",
    "        'author': 'Paulo Coelho',\n",
    "        'pages': 208\n",
    "    },\n",
    "    {\n",
    "        'book': 'Atomic Habits',\n",
    "        'author': 'James Clear',\n",
    "        'pages': 320\n",
    "    },\n",
    "    {\n",
    "        'book': 'Sapiens: A Brief History of Humankind',\n",
    "        'author': 'Yuval Noah Harari',\n",
    "        'pages': 498\n",
    "    }\n",
    "]"
   ]
  },
  {
   "cell_type": "code",
   "execution_count": 10,
   "id": "28d79230",
   "metadata": {},
   "outputs": [
    {
     "data": {
      "text/plain": [
       "['The Alchemist', 'Atomic Habits', 'Sapiens: A Brief History of Humankind']"
      ]
     },
     "execution_count": 10,
     "metadata": {},
     "output_type": "execute_result"
    }
   ],
   "source": [
    "list(map(lambda books:books['book'], books))"
   ]
  },
  {
   "cell_type": "code",
   "execution_count": 11,
   "id": "76d9c818",
   "metadata": {},
   "outputs": [
    {
     "data": {
      "text/plain": [
       "[208, 320, 498]"
      ]
     },
     "execution_count": 11,
     "metadata": {},
     "output_type": "execute_result"
    }
   ],
   "source": [
    "list(map(lambda books:books['pages'], books))"
   ]
  },
  {
   "cell_type": "code",
   "execution_count": 13,
   "id": "3c592e4f",
   "metadata": {},
   "outputs": [
    {
     "data": {
      "text/plain": [
       "['Paulo Coelho', 'James Clear', 'Yuval Noah Harari']"
      ]
     },
     "execution_count": 13,
     "metadata": {},
     "output_type": "execute_result"
    }
   ],
   "source": [
    "list(map(lambda x:x['author'], books))"
   ]
  },
  {
   "cell_type": "markdown",
   "id": "7afe9a05",
   "metadata": {},
   "source": [
    "#### filter"
   ]
  },
  {
   "cell_type": "code",
   "execution_count": null,
   "id": "0f6955f1",
   "metadata": {},
   "outputs": [
    {
     "data": {
      "text/plain": [
       "[56, 69, 80, 67]"
      ]
     },
     "execution_count": 15,
     "metadata": {},
     "output_type": "execute_result"
    }
   ],
   "source": [
    "## which numbers are greater than 50\n",
    "list1 = [56, 40, 69, 80, 34, 27,67]\n",
    "list(filter(lambda x: x>=50, list1))"
   ]
  },
  {
   "cell_type": "code",
   "execution_count": 17,
   "id": "3d93cb9f",
   "metadata": {},
   "outputs": [
    {
     "data": {
      "text/plain": [
       "['Aster', 'Amaryllis', 'Azalea', 'Anemone']"
      ]
     },
     "execution_count": 17,
     "metadata": {},
     "output_type": "execute_result"
    }
   ],
   "source": [
    "## which flowers start with 'a'\n",
    "flowers = [\n",
    "    \"Rose\",\n",
    "    \"Tulip\",\n",
    "    \"Aster\",\n",
    "    \"Orchid\",\n",
    "    \"Amaryllis\",\n",
    "    \"Lily\",\n",
    "    \"Azalea\",\n",
    "    \"Sunflower\",\n",
    "    \"Anemone\"\n",
    "]\n",
    "\n",
    "list(filter(lambda x:x.startswith('A'), flowers))"
   ]
  },
  {
   "cell_type": "code",
   "execution_count": null,
   "id": "29f6949e",
   "metadata": {},
   "outputs": [],
   "source": []
  }
 ],
 "metadata": {
  "kernelspec": {
   "display_name": "base",
   "language": "python",
   "name": "python3"
  },
  "language_info": {
   "codemirror_mode": {
    "name": "ipython",
    "version": 3
   },
   "file_extension": ".py",
   "mimetype": "text/x-python",
   "name": "python",
   "nbconvert_exporter": "python",
   "pygments_lexer": "ipython3",
   "version": "3.11.7"
  }
 },
 "nbformat": 4,
 "nbformat_minor": 5
}
