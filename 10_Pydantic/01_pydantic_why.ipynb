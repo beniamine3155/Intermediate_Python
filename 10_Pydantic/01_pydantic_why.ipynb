{
 "cells": [
  {
   "cell_type": "markdown",
   "id": "91cdd20c",
   "metadata": {},
   "source": [
    "### What is Pydantic?\n",
    "Pydantic is a data validation and settings management library for Python, based on Python type hints.\n",
    "\n",
    "Pydantic uses Python type annotations to validate and parse data. It enforces data types at runtime and provides detailed errors if input data is invalid — making it ideal for APIs, data models, and input parsing."
   ]
  },
  {
   "cell_type": "markdown",
   "id": "95645382",
   "metadata": {},
   "source": [
    "### Why Use Pydantic?\n",
    "- Automatic type conversion (e.g., strings to integers).\n",
    "- Built-in data validation (e.g., valid emails, ranges).\n",
    "- Clean and consistent error messages.\n",
    "- Perfect fit with FastAPI, which relies heavily on Pydantic.\n",
    "- Saves time — no need to manually validate user input."
   ]
  },
  {
   "cell_type": "code",
   "execution_count": 1,
   "id": "02ccc63f",
   "metadata": {},
   "outputs": [
    {
     "name": "stdout",
     "output_type": "stream",
     "text": [
      "25\n"
     ]
    }
   ],
   "source": [
    "## Example\n",
    "from pydantic import BaseModel\n",
    "\n",
    "class User(BaseModel):\n",
    "    name: str\n",
    "    age: int\n",
    "\n",
    "user = User(name=\"Alice\", age=\"25\")  # Note: \"25\" (str) will be converted to int\n",
    "print(user.age)  # 25"
   ]
  },
  {
   "cell_type": "code",
   "execution_count": 2,
   "id": "85cfdb35",
   "metadata": {},
   "outputs": [],
   "source": [
    "## \n",
    "from pydantic import BaseModel, EmailStr, AnyUrl, Field\n",
    "from typing import List, Dict, Optional, Annotated"
   ]
  },
  {
   "cell_type": "markdown",
   "id": "a2b1e34b",
   "metadata": {},
   "source": [
    "- BaseModel: All Pydantic models inherit from this base.\n",
    "\n",
    "- EmailStr: Ensures the field is a valid email address.\n",
    "\n",
    "- AnyUrl: Ensures the field is a valid URL.\n",
    "\n",
    "- Field(): Provides validation metadata (e.g., max length, title, range).\n",
    "\n",
    "- Annotated: Used with Field to add extra validation or metadata for documentation."
   ]
  },
  {
   "cell_type": "code",
   "execution_count": null,
   "id": "846f6fe6",
   "metadata": {},
   "outputs": [],
   "source": [
    "class Patient(BaseModel):\n",
    "    name: Annotated[str, Field(...)] \n",
    "    # name: Must be a string, max 50 chars, with custom title/description and examples.\n",
    "\n",
    "    email: EmailStr\n",
    "    # Must be a valid email (abc@gmail.com is valid).\n",
    "\n",
    "    linkedin_url: AnyUrl\n",
    "    # Must be a valid URL (e.g., http://linkedin.com/1322).\n",
    "\n",
    "    age: int = Field(gt=0, lt=120)\n",
    "    # Integer age must be greater than 0 and less than 120.\n",
    "\n",
    "    weight: Annotated[float, Field(gt=0, strict=True)]\n",
    "    # Float weight must be > 0.\n",
    "    # strict=True means only float is allowed (not int, not \"75.0\" as string).\n",
    "\n",
    "    married: Annotated[bool, Field(default=None, description='...')]\n",
    "    # Optional boolean with description.\n",
    "\n",
    "    allergies: Annotated[Optional[List[str]], Field(default=None, max_length=5)]\n",
    "    # List of allergies (up to 5 items), optional.\n",
    "\n",
    "    contact_details: Dict[str, str]\n",
    "    # Dictionary with string keys and values (e.g., 'phone': '2353462').\n",
    "\n",
    "  "
   ]
  },
  {
   "cell_type": "code",
   "execution_count": 9,
   "id": "06ef4ee0",
   "metadata": {},
   "outputs": [
    {
     "name": "stdout",
     "output_type": "stream",
     "text": [
      "nitish\n",
      "abc@gmail.com\n",
      "30\n",
      "http://linkedin.com/1322\n",
      "{'phone': '2353462'}\n",
      "updated\n"
     ]
    }
   ],
   "source": [
    "from pydantic import BaseModel, EmailStr, AnyUrl, Field\n",
    "from typing import List, Dict, Optional, Annotated\n",
    "\n",
    "class Patient(BaseModel):\n",
    "\n",
    "    name: Annotated[str, Field(max_length=50, title='Name of the patient', description='Give the name of the patient in less than 50 chars', examples=['Nitish', 'Amit'])]\n",
    "    email: EmailStr\n",
    "    linkedin_url: AnyUrl\n",
    "    age: int = Field(gt=0, lt=120)\n",
    "    weight: Annotated[float, Field(gt=0, strict=True)]\n",
    "    # married: Annotated[bool, Field(default=None, description='Is the patient married or not')]\n",
    "    # allergies: Annotated[Optional[List[str]], Field(default=None, max_length=5)]\n",
    "    contact_details: Dict[str, str]\n",
    "\n",
    "\n",
    "def update_patient_data(patient: Patient):\n",
    "\n",
    "    print(patient.name)\n",
    "    print(patient.email)\n",
    "    print(patient.age)\n",
    "    print(patient.linkedin_url)\n",
    "    print(patient.contact_details)\n",
    "\n",
    "    # print(patient.allergies)\n",
    "    # print(patient.married)\n",
    "    print('updated')\n",
    "\n",
    "patient_info = {'name':'nitish', 'email':'abc@gmail.com', 'linkedin_url':'http://linkedin.com/1322', 'age': '30', 'weight': 75.2,'contact_details':{'phone':'2353462'}}\n",
    "\n",
    "patient1 = Patient(**patient_info)\n",
    "\n",
    "update_patient_data(patient1)"
   ]
  },
  {
   "cell_type": "code",
   "execution_count": null,
   "id": "6ab72955",
   "metadata": {},
   "outputs": [],
   "source": []
  }
 ],
 "metadata": {
  "kernelspec": {
   "display_name": "base",
   "language": "python",
   "name": "python3"
  },
  "language_info": {
   "codemirror_mode": {
    "name": "ipython",
    "version": 3
   },
   "file_extension": ".py",
   "mimetype": "text/x-python",
   "name": "python",
   "nbconvert_exporter": "python",
   "pygments_lexer": "ipython3",
   "version": "3.11.7"
  }
 },
 "nbformat": 4,
 "nbformat_minor": 5
}
