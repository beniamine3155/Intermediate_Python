{
 "cells": [
  {
   "cell_type": "markdown",
   "id": "3dcc8186",
   "metadata": {},
   "source": [
    "## Generators"
   ]
  },
  {
   "cell_type": "markdown",
   "id": "fe83260a",
   "metadata": {},
   "source": [
    "In Python, generators are a special way to create iterators, which are objects you can loop through one element at a time. Generators make it easy to work with data one piece at a time, especially when you don’t want to load everything into memory at once.\n",
    "\n",
    "#### Key Concepts\n",
    "- Generators allow you to iterate over data without creating a complete list in memory. Instead, they produce values one at a time as you need them.\n",
    "\n",
    "- The yield keyword is the core of a generator. When a function has yield instead of return, it becomes a generator function. Each time yield is called, it pauses the function, saving its state, and returns a value to the caller.\n",
    "\n",
    "- Lazy Evaluation: Generators don’t calculate values until you actually need them, which saves memory."
   ]
  },
  {
   "cell_type": "markdown",
   "id": "97dc453a",
   "metadata": {},
   "source": [
    "#### Writing a Generator Function\n",
    "Here’s an example to illustrate how a generator function works.\n",
    "\n",
    "Example 1: Simple Generator Function\n",
    "Let’s create a generator function that produces numbers from 1 to 5, one at a time."
   ]
  },
  {
   "cell_type": "code",
   "execution_count": 1,
   "id": "e6c23cca",
   "metadata": {},
   "outputs": [],
   "source": [
    "def number_generator():\n",
    "    for i in range(1, 6):\n",
    "        yield i"
   ]
  },
  {
   "cell_type": "markdown",
   "id": "3d7d874d",
   "metadata": {},
   "source": [
    "Notice the yield i line – this is what makes number_generator() a generator. When you call yield, Python pauses the function and saves the current state, and i is returned to the caller."
   ]
  },
  {
   "cell_type": "code",
   "execution_count": 2,
   "id": "605c8620",
   "metadata": {},
   "outputs": [
    {
     "name": "stdout",
     "output_type": "stream",
     "text": [
      "1\n",
      "2\n",
      "3\n",
      "4\n",
      "5\n"
     ]
    }
   ],
   "source": [
    "# Create a generator\n",
    "gen = number_generator()\n",
    "\n",
    "# Use a loop to get values from the generator\n",
    "for number in gen:\n",
    "    print(number)"
   ]
  },
  {
   "cell_type": "markdown",
   "id": "acfc1506",
   "metadata": {},
   "source": [
    "#### Explanation of the Output\n",
    "- When the for loop starts, gen begins at the first value (1).\n",
    "- It calls yield and outputs 1, then pauses.\n",
    "- Each time the loop continues, the generator resumes from where it left off, producing 2, 3, 4, and finally 5.\n",
    "- After yielding 5, the generator ends."
   ]
  },
  {
   "cell_type": "markdown",
   "id": "137801c8",
   "metadata": {},
   "source": [
    "### Generator for Extracting Authors from Books"
   ]
  },
  {
   "cell_type": "code",
   "execution_count": 5,
   "id": "443ceee6",
   "metadata": {},
   "outputs": [],
   "source": [
    "books = [\n",
    "    {'title': 'Python 101', 'author': 'Mike'},\n",
    "    {'title': 'AI for Beginners', 'author': 'Anna'},\n",
    "    {'title': 'No Author Book'},  # <- Missing 'author'\n",
    "    {'title': 'Data Science Guide', 'author': 'Mike'}\n",
    "]"
   ]
  },
  {
   "cell_type": "code",
   "execution_count": 6,
   "id": "abd62458",
   "metadata": {},
   "outputs": [],
   "source": [
    "def authors_generator():\n",
    "    for book in books:\n",
    "        if book.get(\"author\"):  # Safe check\n",
    "            yield book.get(\"author\")\n"
   ]
  },
  {
   "cell_type": "markdown",
   "id": "ee6d7a57",
   "metadata": {},
   "source": [
    "#### Explanation:\n",
    "Iterates through a list of book dictionaries.\n",
    "\n",
    "Yields the \"author\" only if it exists.\n",
    "\n",
    "Efficient and safe (doesn't crash if \"author\" is missing)."
   ]
  },
  {
   "cell_type": "code",
   "execution_count": 7,
   "id": "5eb89e54",
   "metadata": {},
   "outputs": [
    {
     "name": "stdout",
     "output_type": "stream",
     "text": [
      "Mike\n",
      "Anna\n",
      "Mike\n"
     ]
    }
   ],
   "source": [
    "for author in authors_generator():\n",
    "    print(author)"
   ]
  },
  {
   "cell_type": "markdown",
   "id": "71225dd6",
   "metadata": {},
   "source": [
    "### Generator from a List Comprehension\n",
    "\n"
   ]
  },
  {
   "cell_type": "code",
   "execution_count": 8,
   "id": "fe6cc778",
   "metadata": {},
   "outputs": [],
   "source": [
    "def authors_generator():\n",
    "    for author in [book.get(\"author\") for book in books if book.get(\"author\")]:\n",
    "        yield author\n"
   ]
  },
  {
   "cell_type": "markdown",
   "id": "640b5821",
   "metadata": {},
   "source": [
    "### Using yield from (Python shortcut)"
   ]
  },
  {
   "cell_type": "code",
   "execution_count": 9,
   "id": "c7790c08",
   "metadata": {},
   "outputs": [],
   "source": [
    "def authors_generator():\n",
    "    yield from [book.get(\"author\") for book in books if book.get(\"author\")]\n"
   ]
  },
  {
   "cell_type": "markdown",
   "id": "608e3581",
   "metadata": {},
   "source": [
    "#### What yield from Does:\n",
    "It delegates the yielding to another iterable (like a list or set).\n",
    "\n",
    "Instead of writing a loop, it unpacks items and yields them one by one.\n",
    "\n",
    "Same output as previous version, but cleaner code."
   ]
  },
  {
   "cell_type": "markdown",
   "id": "842612d8",
   "metadata": {},
   "source": [
    "### Set Comprehension + yield from → Unique Authors"
   ]
  },
  {
   "cell_type": "code",
   "execution_count": 10,
   "id": "47abf4a1",
   "metadata": {},
   "outputs": [],
   "source": [
    "def unique_authors_generator():\n",
    "    yield from {book.get(\"author\") for book in books if book.get(\"author\")}\n"
   ]
  },
  {
   "cell_type": "markdown",
   "id": "f3991d3b",
   "metadata": {},
   "source": [
    "#### What's Happening:\n",
    "{...} = set comprehension = removes duplicates\n",
    "\n",
    "yield from = yields each unique author\n",
    "\n",
    "Very clean and memory-efficient"
   ]
  }
 ],
 "metadata": {
  "kernelspec": {
   "display_name": "base",
   "language": "python",
   "name": "python3"
  },
  "language_info": {
   "codemirror_mode": {
    "name": "ipython",
    "version": 3
   },
   "file_extension": ".py",
   "mimetype": "text/x-python",
   "name": "python",
   "nbconvert_exporter": "python",
   "pygments_lexer": "ipython3",
   "version": "3.11.7"
  }
 },
 "nbformat": 4,
 "nbformat_minor": 5
}
